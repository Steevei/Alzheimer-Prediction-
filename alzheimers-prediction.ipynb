{
 "cells": [
  {
   "cell_type": "markdown",
   "id": "6a8aec55",
   "metadata": {
    "papermill": {
     "duration": 0.006231,
     "end_time": "2024-04-28T18:12:47.632505",
     "exception": false,
     "start_time": "2024-04-28T18:12:47.626274",
     "status": "completed"
    },
    "tags": []
   },
   "source": [
    "# **ALZHEIMER PREDICTION**\n",
    "In the following project the objective is to predict whether a patient has potential to develop Alzheimer desease based on data that was obtained using MRI (Magnetic Resonance Image) for Young, Middle Aged, Nondemented and Demented Older Adults."
   ]
  },
  {
   "cell_type": "markdown",
   "id": "8e71bd72",
   "metadata": {
    "papermill": {
     "duration": 0.005697,
     "end_time": "2024-04-28T18:12:47.645137",
     "exception": false,
     "start_time": "2024-04-28T18:12:47.639440",
     "status": "completed"
    },
    "tags": []
   },
   "source": [
    "# **Importing Libraries**"
   ]
  },
  {
   "cell_type": "code",
   "execution_count": 1,
   "id": "b5a58ab9",
   "metadata": {
    "execution": {
     "iopub.execute_input": "2024-04-28T18:12:47.659255Z",
     "iopub.status.busy": "2024-04-28T18:12:47.658738Z",
     "iopub.status.idle": "2024-04-28T18:12:50.506766Z",
     "shell.execute_reply": "2024-04-28T18:12:50.505488Z"
    },
    "papermill": {
     "duration": 2.858837,
     "end_time": "2024-04-28T18:12:50.509880",
     "exception": false,
     "start_time": "2024-04-28T18:12:47.651043",
     "status": "completed"
    },
    "tags": []
   },
   "outputs": [],
   "source": [
    "import pandas as pd\n",
    "import numpy as np\n",
    "\n",
    "# One-hot encoding and standardization \n",
    "from sklearn.preprocessing import LabelEncoder, StandardScaler\n",
    "\n",
    "# Data splitting\n",
    "from sklearn.decomposition import PCA\n",
    "from sklearn.model_selection import train_test_split, cross_val_score\n",
    "from sklearn.metrics import accuracy_score, confusion_matrix, classification_report\n",
    "\n",
    "# Models\n",
    "from sklearn.linear_model import LogisticRegression\n",
    "from sklearn.tree import DecisionTreeClassifier, plot_tree\n",
    "from sklearn.ensemble import RandomForestClassifier\n",
    "\n",
    "# Plots\n",
    "import seaborn as sns\n",
    "import matplotlib.pyplot as plt\n",
    "from sklearn.tree import plot_tree\n",
    "from matplotlib.colors import ListedColormap\n"
   ]
  },
  {
   "cell_type": "markdown",
   "id": "d2489f50",
   "metadata": {
    "papermill": {
     "duration": 0.005701,
     "end_time": "2024-04-28T18:12:50.521811",
     "exception": false,
     "start_time": "2024-04-28T18:12:50.516110",
     "status": "completed"
    },
    "tags": []
   },
   "source": [
    "# **Loading Datasets**"
   ]
  },
  {
   "cell_type": "code",
   "execution_count": 2,
   "id": "3ed7f926",
   "metadata": {
    "execution": {
     "iopub.execute_input": "2024-04-28T18:12:50.536104Z",
     "iopub.status.busy": "2024-04-28T18:12:50.534953Z",
     "iopub.status.idle": "2024-04-28T18:12:50.583822Z",
     "shell.execute_reply": "2024-04-28T18:12:50.582668Z"
    },
    "papermill": {
     "duration": 0.059299,
     "end_time": "2024-04-28T18:12:50.586982",
     "exception": false,
     "start_time": "2024-04-28T18:12:50.527683",
     "status": "completed"
    },
    "tags": []
   },
   "outputs": [
    {
     "data": {
      "text/html": [
       "<div>\n",
       "<style scoped>\n",
       "    .dataframe tbody tr th:only-of-type {\n",
       "        vertical-align: middle;\n",
       "    }\n",
       "\n",
       "    .dataframe tbody tr th {\n",
       "        vertical-align: top;\n",
       "    }\n",
       "\n",
       "    .dataframe thead th {\n",
       "        text-align: right;\n",
       "    }\n",
       "</style>\n",
       "<table border=\"1\" class=\"dataframe\">\n",
       "  <thead>\n",
       "    <tr style=\"text-align: right;\">\n",
       "      <th></th>\n",
       "      <th>ID</th>\n",
       "      <th>M/F</th>\n",
       "      <th>Hand</th>\n",
       "      <th>Age</th>\n",
       "      <th>Educ</th>\n",
       "      <th>SES</th>\n",
       "      <th>MMSE</th>\n",
       "      <th>CDR</th>\n",
       "      <th>eTIV</th>\n",
       "      <th>nWBV</th>\n",
       "      <th>ASF</th>\n",
       "      <th>Delay</th>\n",
       "    </tr>\n",
       "  </thead>\n",
       "  <tbody>\n",
       "    <tr>\n",
       "      <th>0</th>\n",
       "      <td>OAS1_0001_MR1</td>\n",
       "      <td>F</td>\n",
       "      <td>R</td>\n",
       "      <td>74</td>\n",
       "      <td>2.0</td>\n",
       "      <td>3.0</td>\n",
       "      <td>29.0</td>\n",
       "      <td>0.0</td>\n",
       "      <td>1344</td>\n",
       "      <td>0.743</td>\n",
       "      <td>1.306</td>\n",
       "      <td>NaN</td>\n",
       "    </tr>\n",
       "    <tr>\n",
       "      <th>1</th>\n",
       "      <td>OAS1_0002_MR1</td>\n",
       "      <td>F</td>\n",
       "      <td>R</td>\n",
       "      <td>55</td>\n",
       "      <td>4.0</td>\n",
       "      <td>1.0</td>\n",
       "      <td>29.0</td>\n",
       "      <td>0.0</td>\n",
       "      <td>1147</td>\n",
       "      <td>0.810</td>\n",
       "      <td>1.531</td>\n",
       "      <td>NaN</td>\n",
       "    </tr>\n",
       "    <tr>\n",
       "      <th>2</th>\n",
       "      <td>OAS1_0003_MR1</td>\n",
       "      <td>F</td>\n",
       "      <td>R</td>\n",
       "      <td>73</td>\n",
       "      <td>4.0</td>\n",
       "      <td>3.0</td>\n",
       "      <td>27.0</td>\n",
       "      <td>0.5</td>\n",
       "      <td>1454</td>\n",
       "      <td>0.708</td>\n",
       "      <td>1.207</td>\n",
       "      <td>NaN</td>\n",
       "    </tr>\n",
       "    <tr>\n",
       "      <th>3</th>\n",
       "      <td>OAS1_0004_MR1</td>\n",
       "      <td>M</td>\n",
       "      <td>R</td>\n",
       "      <td>28</td>\n",
       "      <td>NaN</td>\n",
       "      <td>NaN</td>\n",
       "      <td>NaN</td>\n",
       "      <td>NaN</td>\n",
       "      <td>1588</td>\n",
       "      <td>0.803</td>\n",
       "      <td>1.105</td>\n",
       "      <td>NaN</td>\n",
       "    </tr>\n",
       "    <tr>\n",
       "      <th>4</th>\n",
       "      <td>OAS1_0005_MR1</td>\n",
       "      <td>M</td>\n",
       "      <td>R</td>\n",
       "      <td>18</td>\n",
       "      <td>NaN</td>\n",
       "      <td>NaN</td>\n",
       "      <td>NaN</td>\n",
       "      <td>NaN</td>\n",
       "      <td>1737</td>\n",
       "      <td>0.848</td>\n",
       "      <td>1.010</td>\n",
       "      <td>NaN</td>\n",
       "    </tr>\n",
       "  </tbody>\n",
       "</table>\n",
       "</div>"
      ],
      "text/plain": [
       "              ID M/F Hand  Age  Educ  SES  MMSE  CDR  eTIV   nWBV    ASF  \\\n",
       "0  OAS1_0001_MR1   F    R   74   2.0  3.0  29.0  0.0  1344  0.743  1.306   \n",
       "1  OAS1_0002_MR1   F    R   55   4.0  1.0  29.0  0.0  1147  0.810  1.531   \n",
       "2  OAS1_0003_MR1   F    R   73   4.0  3.0  27.0  0.5  1454  0.708  1.207   \n",
       "3  OAS1_0004_MR1   M    R   28   NaN  NaN   NaN  NaN  1588  0.803  1.105   \n",
       "4  OAS1_0005_MR1   M    R   18   NaN  NaN   NaN  NaN  1737  0.848  1.010   \n",
       "\n",
       "   Delay  \n",
       "0    NaN  \n",
       "1    NaN  \n",
       "2    NaN  \n",
       "3    NaN  \n",
       "4    NaN  "
      ]
     },
     "execution_count": 2,
     "metadata": {},
     "output_type": "execute_result"
    }
   ],
   "source": [
    "#Cross-sectional MRI Data in Young, Middle Aged, Nondemented and Demented Older Adults\n",
    "cross_sectional = pd.read_csv('/kaggle/input/mri-and-alzheimers/oasis_cross-sectional.csv')\n",
    "cross_sectional.head()"
   ]
  },
  {
   "cell_type": "code",
   "execution_count": 3,
   "id": "d77bd584",
   "metadata": {
    "execution": {
     "iopub.execute_input": "2024-04-28T18:12:50.601468Z",
     "iopub.status.busy": "2024-04-28T18:12:50.601058Z",
     "iopub.status.idle": "2024-04-28T18:12:50.630517Z",
     "shell.execute_reply": "2024-04-28T18:12:50.629310Z"
    },
    "papermill": {
     "duration": 0.039669,
     "end_time": "2024-04-28T18:12:50.633026",
     "exception": false,
     "start_time": "2024-04-28T18:12:50.593357",
     "status": "completed"
    },
    "tags": []
   },
   "outputs": [
    {
     "data": {
      "text/html": [
       "<div>\n",
       "<style scoped>\n",
       "    .dataframe tbody tr th:only-of-type {\n",
       "        vertical-align: middle;\n",
       "    }\n",
       "\n",
       "    .dataframe tbody tr th {\n",
       "        vertical-align: top;\n",
       "    }\n",
       "\n",
       "    .dataframe thead th {\n",
       "        text-align: right;\n",
       "    }\n",
       "</style>\n",
       "<table border=\"1\" class=\"dataframe\">\n",
       "  <thead>\n",
       "    <tr style=\"text-align: right;\">\n",
       "      <th></th>\n",
       "      <th>Subject ID</th>\n",
       "      <th>MRI ID</th>\n",
       "      <th>Group</th>\n",
       "      <th>Visit</th>\n",
       "      <th>MR Delay</th>\n",
       "      <th>M/F</th>\n",
       "      <th>Hand</th>\n",
       "      <th>Age</th>\n",
       "      <th>EDUC</th>\n",
       "      <th>SES</th>\n",
       "      <th>MMSE</th>\n",
       "      <th>CDR</th>\n",
       "      <th>eTIV</th>\n",
       "      <th>nWBV</th>\n",
       "      <th>ASF</th>\n",
       "    </tr>\n",
       "  </thead>\n",
       "  <tbody>\n",
       "    <tr>\n",
       "      <th>0</th>\n",
       "      <td>OAS2_0001</td>\n",
       "      <td>OAS2_0001_MR1</td>\n",
       "      <td>Nondemented</td>\n",
       "      <td>1</td>\n",
       "      <td>0</td>\n",
       "      <td>M</td>\n",
       "      <td>R</td>\n",
       "      <td>87</td>\n",
       "      <td>14</td>\n",
       "      <td>2.0</td>\n",
       "      <td>27.0</td>\n",
       "      <td>0.0</td>\n",
       "      <td>1987</td>\n",
       "      <td>0.696</td>\n",
       "      <td>0.883</td>\n",
       "    </tr>\n",
       "    <tr>\n",
       "      <th>1</th>\n",
       "      <td>OAS2_0001</td>\n",
       "      <td>OAS2_0001_MR2</td>\n",
       "      <td>Nondemented</td>\n",
       "      <td>2</td>\n",
       "      <td>457</td>\n",
       "      <td>M</td>\n",
       "      <td>R</td>\n",
       "      <td>88</td>\n",
       "      <td>14</td>\n",
       "      <td>2.0</td>\n",
       "      <td>30.0</td>\n",
       "      <td>0.0</td>\n",
       "      <td>2004</td>\n",
       "      <td>0.681</td>\n",
       "      <td>0.876</td>\n",
       "    </tr>\n",
       "    <tr>\n",
       "      <th>2</th>\n",
       "      <td>OAS2_0002</td>\n",
       "      <td>OAS2_0002_MR1</td>\n",
       "      <td>Demented</td>\n",
       "      <td>1</td>\n",
       "      <td>0</td>\n",
       "      <td>M</td>\n",
       "      <td>R</td>\n",
       "      <td>75</td>\n",
       "      <td>12</td>\n",
       "      <td>NaN</td>\n",
       "      <td>23.0</td>\n",
       "      <td>0.5</td>\n",
       "      <td>1678</td>\n",
       "      <td>0.736</td>\n",
       "      <td>1.046</td>\n",
       "    </tr>\n",
       "    <tr>\n",
       "      <th>3</th>\n",
       "      <td>OAS2_0002</td>\n",
       "      <td>OAS2_0002_MR2</td>\n",
       "      <td>Demented</td>\n",
       "      <td>2</td>\n",
       "      <td>560</td>\n",
       "      <td>M</td>\n",
       "      <td>R</td>\n",
       "      <td>76</td>\n",
       "      <td>12</td>\n",
       "      <td>NaN</td>\n",
       "      <td>28.0</td>\n",
       "      <td>0.5</td>\n",
       "      <td>1738</td>\n",
       "      <td>0.713</td>\n",
       "      <td>1.010</td>\n",
       "    </tr>\n",
       "    <tr>\n",
       "      <th>4</th>\n",
       "      <td>OAS2_0002</td>\n",
       "      <td>OAS2_0002_MR3</td>\n",
       "      <td>Demented</td>\n",
       "      <td>3</td>\n",
       "      <td>1895</td>\n",
       "      <td>M</td>\n",
       "      <td>R</td>\n",
       "      <td>80</td>\n",
       "      <td>12</td>\n",
       "      <td>NaN</td>\n",
       "      <td>22.0</td>\n",
       "      <td>0.5</td>\n",
       "      <td>1698</td>\n",
       "      <td>0.701</td>\n",
       "      <td>1.034</td>\n",
       "    </tr>\n",
       "  </tbody>\n",
       "</table>\n",
       "</div>"
      ],
      "text/plain": [
       "  Subject ID         MRI ID        Group  Visit  MR Delay M/F Hand  Age  EDUC  \\\n",
       "0  OAS2_0001  OAS2_0001_MR1  Nondemented      1         0   M    R   87    14   \n",
       "1  OAS2_0001  OAS2_0001_MR2  Nondemented      2       457   M    R   88    14   \n",
       "2  OAS2_0002  OAS2_0002_MR1     Demented      1         0   M    R   75    12   \n",
       "3  OAS2_0002  OAS2_0002_MR2     Demented      2       560   M    R   76    12   \n",
       "4  OAS2_0002  OAS2_0002_MR3     Demented      3      1895   M    R   80    12   \n",
       "\n",
       "   SES  MMSE  CDR  eTIV   nWBV    ASF  \n",
       "0  2.0  27.0  0.0  1987  0.696  0.883  \n",
       "1  2.0  30.0  0.0  2004  0.681  0.876  \n",
       "2  NaN  23.0  0.5  1678  0.736  1.046  \n",
       "3  NaN  28.0  0.5  1738  0.713  1.010  \n",
       "4  NaN  22.0  0.5  1698  0.701  1.034  "
      ]
     },
     "execution_count": 3,
     "metadata": {},
     "output_type": "execute_result"
    }
   ],
   "source": [
    "#Longitudinal MRI Data in Nondemented and Demented Older Adults\n",
    "longitudinal = pd.read_csv('/kaggle/input/mri-and-alzheimers/oasis_longitudinal.csv')\n",
    "longitudinal.head()"
   ]
  },
  {
   "cell_type": "markdown",
   "id": "2c7ef014",
   "metadata": {
    "papermill": {
     "duration": 0.007885,
     "end_time": "2024-04-28T18:12:50.647581",
     "exception": false,
     "start_time": "2024-04-28T18:12:50.639696",
     "status": "completed"
    },
    "tags": []
   },
   "source": [
    "#  **Data Preparation**"
   ]
  },
  {
   "cell_type": "markdown",
   "id": "beaa8044",
   "metadata": {
    "papermill": {
     "duration": 0.006424,
     "end_time": "2024-04-28T18:12:50.660808",
     "exception": false,
     "start_time": "2024-04-28T18:12:50.654384",
     "status": "completed"
    },
    "tags": []
   },
   "source": [
    "**Get rid of the unnecessary columns, renaming columns**"
   ]
  },
  {
   "cell_type": "code",
   "execution_count": 4,
   "id": "89379def",
   "metadata": {
    "execution": {
     "iopub.execute_input": "2024-04-28T18:12:50.677225Z",
     "iopub.status.busy": "2024-04-28T18:12:50.676237Z",
     "iopub.status.idle": "2024-04-28T18:12:50.722387Z",
     "shell.execute_reply": "2024-04-28T18:12:50.721212Z"
    },
    "papermill": {
     "duration": 0.056869,
     "end_time": "2024-04-28T18:12:50.725145",
     "exception": false,
     "start_time": "2024-04-28T18:12:50.668276",
     "status": "completed"
    },
    "tags": []
   },
   "outputs": [
    {
     "data": {
      "text/html": [
       "<div>\n",
       "<style scoped>\n",
       "    .dataframe tbody tr th:only-of-type {\n",
       "        vertical-align: middle;\n",
       "    }\n",
       "\n",
       "    .dataframe tbody tr th {\n",
       "        vertical-align: top;\n",
       "    }\n",
       "\n",
       "    .dataframe thead th {\n",
       "        text-align: right;\n",
       "    }\n",
       "</style>\n",
       "<table border=\"1\" class=\"dataframe\">\n",
       "  <thead>\n",
       "    <tr style=\"text-align: right;\">\n",
       "      <th></th>\n",
       "      <th>MR Delay</th>\n",
       "      <th>Age</th>\n",
       "      <th>EDUC</th>\n",
       "      <th>MMSE</th>\n",
       "      <th>CDR</th>\n",
       "      <th>eTIV</th>\n",
       "      <th>nWBV</th>\n",
       "      <th>ASF</th>\n",
       "    </tr>\n",
       "  </thead>\n",
       "  <tbody>\n",
       "    <tr>\n",
       "      <th>count</th>\n",
       "      <td>373.000000</td>\n",
       "      <td>373.000000</td>\n",
       "      <td>373.000000</td>\n",
       "      <td>371.000000</td>\n",
       "      <td>373.000000</td>\n",
       "      <td>373.000000</td>\n",
       "      <td>373.000000</td>\n",
       "      <td>373.000000</td>\n",
       "    </tr>\n",
       "    <tr>\n",
       "      <th>mean</th>\n",
       "      <td>595.104558</td>\n",
       "      <td>77.013405</td>\n",
       "      <td>14.597855</td>\n",
       "      <td>27.342318</td>\n",
       "      <td>0.290885</td>\n",
       "      <td>1488.128686</td>\n",
       "      <td>0.729568</td>\n",
       "      <td>1.195461</td>\n",
       "    </tr>\n",
       "    <tr>\n",
       "      <th>std</th>\n",
       "      <td>635.485118</td>\n",
       "      <td>7.640957</td>\n",
       "      <td>2.876339</td>\n",
       "      <td>3.683244</td>\n",
       "      <td>0.374557</td>\n",
       "      <td>176.139286</td>\n",
       "      <td>0.037135</td>\n",
       "      <td>0.138092</td>\n",
       "    </tr>\n",
       "    <tr>\n",
       "      <th>min</th>\n",
       "      <td>0.000000</td>\n",
       "      <td>60.000000</td>\n",
       "      <td>6.000000</td>\n",
       "      <td>4.000000</td>\n",
       "      <td>0.000000</td>\n",
       "      <td>1106.000000</td>\n",
       "      <td>0.644000</td>\n",
       "      <td>0.876000</td>\n",
       "    </tr>\n",
       "    <tr>\n",
       "      <th>25%</th>\n",
       "      <td>0.000000</td>\n",
       "      <td>71.000000</td>\n",
       "      <td>12.000000</td>\n",
       "      <td>27.000000</td>\n",
       "      <td>0.000000</td>\n",
       "      <td>1357.000000</td>\n",
       "      <td>0.700000</td>\n",
       "      <td>1.099000</td>\n",
       "    </tr>\n",
       "    <tr>\n",
       "      <th>50%</th>\n",
       "      <td>552.000000</td>\n",
       "      <td>77.000000</td>\n",
       "      <td>15.000000</td>\n",
       "      <td>29.000000</td>\n",
       "      <td>0.000000</td>\n",
       "      <td>1470.000000</td>\n",
       "      <td>0.729000</td>\n",
       "      <td>1.194000</td>\n",
       "    </tr>\n",
       "    <tr>\n",
       "      <th>75%</th>\n",
       "      <td>873.000000</td>\n",
       "      <td>82.000000</td>\n",
       "      <td>16.000000</td>\n",
       "      <td>30.000000</td>\n",
       "      <td>0.500000</td>\n",
       "      <td>1597.000000</td>\n",
       "      <td>0.756000</td>\n",
       "      <td>1.293000</td>\n",
       "    </tr>\n",
       "    <tr>\n",
       "      <th>max</th>\n",
       "      <td>2639.000000</td>\n",
       "      <td>98.000000</td>\n",
       "      <td>23.000000</td>\n",
       "      <td>30.000000</td>\n",
       "      <td>2.000000</td>\n",
       "      <td>2004.000000</td>\n",
       "      <td>0.837000</td>\n",
       "      <td>1.587000</td>\n",
       "    </tr>\n",
       "  </tbody>\n",
       "</table>\n",
       "</div>"
      ],
      "text/plain": [
       "          MR Delay         Age        EDUC        MMSE         CDR  \\\n",
       "count   373.000000  373.000000  373.000000  371.000000  373.000000   \n",
       "mean    595.104558   77.013405   14.597855   27.342318    0.290885   \n",
       "std     635.485118    7.640957    2.876339    3.683244    0.374557   \n",
       "min       0.000000   60.000000    6.000000    4.000000    0.000000   \n",
       "25%       0.000000   71.000000   12.000000   27.000000    0.000000   \n",
       "50%     552.000000   77.000000   15.000000   29.000000    0.000000   \n",
       "75%     873.000000   82.000000   16.000000   30.000000    0.500000   \n",
       "max    2639.000000   98.000000   23.000000   30.000000    2.000000   \n",
       "\n",
       "              eTIV        nWBV         ASF  \n",
       "count   373.000000  373.000000  373.000000  \n",
       "mean   1488.128686    0.729568    1.195461  \n",
       "std     176.139286    0.037135    0.138092  \n",
       "min    1106.000000    0.644000    0.876000  \n",
       "25%    1357.000000    0.700000    1.099000  \n",
       "50%    1470.000000    0.729000    1.194000  \n",
       "75%    1597.000000    0.756000    1.293000  \n",
       "max    2004.000000    0.837000    1.587000  "
      ]
     },
     "execution_count": 4,
     "metadata": {},
     "output_type": "execute_result"
    }
   ],
   "source": [
    "longitudinal = longitudinal.drop(columns=['Subject ID', 'MRI ID', 'Hand', 'Visit', 'SES'])\n",
    "longitudinal = longitudinal.rename(columns={'M/F' : 'Gender'})\n",
    "longitudinal.describe()"
   ]
  },
  {
   "cell_type": "code",
   "execution_count": 5,
   "id": "63508fc9",
   "metadata": {
    "execution": {
     "iopub.execute_input": "2024-04-28T18:12:50.741034Z",
     "iopub.status.busy": "2024-04-28T18:12:50.740471Z",
     "iopub.status.idle": "2024-04-28T18:12:50.773718Z",
     "shell.execute_reply": "2024-04-28T18:12:50.772535Z"
    },
    "papermill": {
     "duration": 0.044072,
     "end_time": "2024-04-28T18:12:50.776254",
     "exception": false,
     "start_time": "2024-04-28T18:12:50.732182",
     "status": "completed"
    },
    "tags": []
   },
   "outputs": [
    {
     "data": {
      "text/html": [
       "<div>\n",
       "<style scoped>\n",
       "    .dataframe tbody tr th:only-of-type {\n",
       "        vertical-align: middle;\n",
       "    }\n",
       "\n",
       "    .dataframe tbody tr th {\n",
       "        vertical-align: top;\n",
       "    }\n",
       "\n",
       "    .dataframe thead th {\n",
       "        text-align: right;\n",
       "    }\n",
       "</style>\n",
       "<table border=\"1\" class=\"dataframe\">\n",
       "  <thead>\n",
       "    <tr style=\"text-align: right;\">\n",
       "      <th></th>\n",
       "      <th>Age</th>\n",
       "      <th>Educ</th>\n",
       "      <th>MMSE</th>\n",
       "      <th>CDR</th>\n",
       "      <th>eTIV</th>\n",
       "      <th>nWBV</th>\n",
       "      <th>ASF</th>\n",
       "    </tr>\n",
       "  </thead>\n",
       "  <tbody>\n",
       "    <tr>\n",
       "      <th>count</th>\n",
       "      <td>436.000000</td>\n",
       "      <td>235.000000</td>\n",
       "      <td>235.00000</td>\n",
       "      <td>235.000000</td>\n",
       "      <td>436.000000</td>\n",
       "      <td>436.000000</td>\n",
       "      <td>436.000000</td>\n",
       "    </tr>\n",
       "    <tr>\n",
       "      <th>mean</th>\n",
       "      <td>51.357798</td>\n",
       "      <td>3.178723</td>\n",
       "      <td>27.06383</td>\n",
       "      <td>0.285106</td>\n",
       "      <td>1481.919725</td>\n",
       "      <td>0.791670</td>\n",
       "      <td>1.198894</td>\n",
       "    </tr>\n",
       "    <tr>\n",
       "      <th>std</th>\n",
       "      <td>25.269862</td>\n",
       "      <td>1.311510</td>\n",
       "      <td>3.69687</td>\n",
       "      <td>0.383405</td>\n",
       "      <td>158.740866</td>\n",
       "      <td>0.059937</td>\n",
       "      <td>0.128682</td>\n",
       "    </tr>\n",
       "    <tr>\n",
       "      <th>min</th>\n",
       "      <td>18.000000</td>\n",
       "      <td>1.000000</td>\n",
       "      <td>14.00000</td>\n",
       "      <td>0.000000</td>\n",
       "      <td>1123.000000</td>\n",
       "      <td>0.644000</td>\n",
       "      <td>0.881000</td>\n",
       "    </tr>\n",
       "    <tr>\n",
       "      <th>25%</th>\n",
       "      <td>23.000000</td>\n",
       "      <td>2.000000</td>\n",
       "      <td>26.00000</td>\n",
       "      <td>0.000000</td>\n",
       "      <td>1367.750000</td>\n",
       "      <td>0.742750</td>\n",
       "      <td>1.111750</td>\n",
       "    </tr>\n",
       "    <tr>\n",
       "      <th>50%</th>\n",
       "      <td>54.000000</td>\n",
       "      <td>3.000000</td>\n",
       "      <td>29.00000</td>\n",
       "      <td>0.000000</td>\n",
       "      <td>1475.500000</td>\n",
       "      <td>0.809000</td>\n",
       "      <td>1.190000</td>\n",
       "    </tr>\n",
       "    <tr>\n",
       "      <th>75%</th>\n",
       "      <td>74.000000</td>\n",
       "      <td>4.000000</td>\n",
       "      <td>30.00000</td>\n",
       "      <td>0.500000</td>\n",
       "      <td>1579.250000</td>\n",
       "      <td>0.842000</td>\n",
       "      <td>1.284250</td>\n",
       "    </tr>\n",
       "    <tr>\n",
       "      <th>max</th>\n",
       "      <td>96.000000</td>\n",
       "      <td>5.000000</td>\n",
       "      <td>30.00000</td>\n",
       "      <td>2.000000</td>\n",
       "      <td>1992.000000</td>\n",
       "      <td>0.893000</td>\n",
       "      <td>1.563000</td>\n",
       "    </tr>\n",
       "  </tbody>\n",
       "</table>\n",
       "</div>"
      ],
      "text/plain": [
       "              Age        Educ       MMSE         CDR         eTIV        nWBV  \\\n",
       "count  436.000000  235.000000  235.00000  235.000000   436.000000  436.000000   \n",
       "mean    51.357798    3.178723   27.06383    0.285106  1481.919725    0.791670   \n",
       "std     25.269862    1.311510    3.69687    0.383405   158.740866    0.059937   \n",
       "min     18.000000    1.000000   14.00000    0.000000  1123.000000    0.644000   \n",
       "25%     23.000000    2.000000   26.00000    0.000000  1367.750000    0.742750   \n",
       "50%     54.000000    3.000000   29.00000    0.000000  1475.500000    0.809000   \n",
       "75%     74.000000    4.000000   30.00000    0.500000  1579.250000    0.842000   \n",
       "max     96.000000    5.000000   30.00000    2.000000  1992.000000    0.893000   \n",
       "\n",
       "              ASF  \n",
       "count  436.000000  \n",
       "mean     1.198894  \n",
       "std      0.128682  \n",
       "min      0.881000  \n",
       "25%      1.111750  \n",
       "50%      1.190000  \n",
       "75%      1.284250  \n",
       "max      1.563000  "
      ]
     },
     "execution_count": 5,
     "metadata": {},
     "output_type": "execute_result"
    }
   ],
   "source": [
    "cross_sectional = cross_sectional.drop(columns=['ID', 'Delay', 'Hand','SES'])\n",
    "cross_sectional = cross_sectional.rename(columns={'M/F' : 'Gender'})\n",
    "cross_sectional.describe()"
   ]
  },
  {
   "cell_type": "markdown",
   "id": "bba65036",
   "metadata": {
    "papermill": {
     "duration": 0.006911,
     "end_time": "2024-04-28T18:12:50.790375",
     "exception": false,
     "start_time": "2024-04-28T18:12:50.783464",
     "status": "completed"
    },
    "tags": []
   },
   "source": [
    "**Cheking if the two datasets are completely equal so that I know whether I should merge them together**"
   ]
  },
  {
   "cell_type": "code",
   "execution_count": 6,
   "id": "9db27f34",
   "metadata": {
    "execution": {
     "iopub.execute_input": "2024-04-28T18:12:50.807408Z",
     "iopub.status.busy": "2024-04-28T18:12:50.806249Z",
     "iopub.status.idle": "2024-04-28T18:12:50.816138Z",
     "shell.execute_reply": "2024-04-28T18:12:50.814930Z"
    },
    "papermill": {
     "duration": 0.020786,
     "end_time": "2024-04-28T18:12:50.818474",
     "exception": false,
     "start_time": "2024-04-28T18:12:50.797688",
     "status": "completed"
    },
    "tags": []
   },
   "outputs": [
    {
     "data": {
      "text/plain": [
       "False"
      ]
     },
     "execution_count": 6,
     "metadata": {},
     "output_type": "execute_result"
    }
   ],
   "source": [
    "def check_if_equal(df1, df2):\n",
    "    if df1.shape != df2.shape:\n",
    "        return False\n",
    "    df1_sorted = df1.sort_values(by=df1.columns.tolist()).reset_index(drop=True)\n",
    "    df2_sorted = df2.sort_values(by=df2.columns.tolist()).reset_index(drop=True)\n",
    "    return df1_sorted.equals(df2_sorted)\n",
    "\n",
    "check_if_equal(cross_sectional,longitudinal)"
   ]
  },
  {
   "cell_type": "markdown",
   "id": "cc90098f",
   "metadata": {
    "papermill": {
     "duration": 0.007028,
     "end_time": "2024-04-28T18:12:50.832890",
     "exception": false,
     "start_time": "2024-04-28T18:12:50.825862",
     "status": "completed"
    },
    "tags": []
   },
   "source": [
    "**Mergin the datasets (since we do have some distinct columns between them both)**"
   ]
  },
  {
   "cell_type": "code",
   "execution_count": 7,
   "id": "fed881b9",
   "metadata": {
    "execution": {
     "iopub.execute_input": "2024-04-28T18:12:50.850456Z",
     "iopub.status.busy": "2024-04-28T18:12:50.850078Z",
     "iopub.status.idle": "2024-04-28T18:12:50.912201Z",
     "shell.execute_reply": "2024-04-28T18:12:50.911051Z"
    },
    "papermill": {
     "duration": 0.073468,
     "end_time": "2024-04-28T18:12:50.914822",
     "exception": false,
     "start_time": "2024-04-28T18:12:50.841354",
     "status": "completed"
    },
    "tags": []
   },
   "outputs": [
    {
     "data": {
      "text/html": [
       "<div>\n",
       "<style scoped>\n",
       "    .dataframe tbody tr th:only-of-type {\n",
       "        vertical-align: middle;\n",
       "    }\n",
       "\n",
       "    .dataframe tbody tr th {\n",
       "        vertical-align: top;\n",
       "    }\n",
       "\n",
       "    .dataframe thead th {\n",
       "        text-align: right;\n",
       "    }\n",
       "</style>\n",
       "<table border=\"1\" class=\"dataframe\">\n",
       "  <thead>\n",
       "    <tr style=\"text-align: right;\">\n",
       "      <th></th>\n",
       "      <th>Age</th>\n",
       "      <th>Educ</th>\n",
       "      <th>MMSE</th>\n",
       "      <th>CDR</th>\n",
       "      <th>eTIV</th>\n",
       "      <th>nWBV</th>\n",
       "      <th>ASF</th>\n",
       "    </tr>\n",
       "  </thead>\n",
       "  <tbody>\n",
       "    <tr>\n",
       "      <th>count</th>\n",
       "      <td>1233.000000</td>\n",
       "      <td>464.000000</td>\n",
       "      <td>829.000000</td>\n",
       "      <td>831.000000</td>\n",
       "      <td>1233.000000</td>\n",
       "      <td>1233.000000</td>\n",
       "      <td>1233.000000</td>\n",
       "    </tr>\n",
       "    <tr>\n",
       "      <th>mean</th>\n",
       "      <td>58.861314</td>\n",
       "      <td>3.183190</td>\n",
       "      <td>27.160434</td>\n",
       "      <td>0.287004</td>\n",
       "      <td>1484.379562</td>\n",
       "      <td>0.773534</td>\n",
       "      <td>1.197479</td>\n",
       "    </tr>\n",
       "    <tr>\n",
       "      <th>std</th>\n",
       "      <td>24.572535</td>\n",
       "      <td>1.310721</td>\n",
       "      <td>3.707881</td>\n",
       "      <td>0.379123</td>\n",
       "      <td>164.547664</td>\n",
       "      <td>0.061126</td>\n",
       "      <td>0.131880</td>\n",
       "    </tr>\n",
       "    <tr>\n",
       "      <th>min</th>\n",
       "      <td>18.000000</td>\n",
       "      <td>1.000000</td>\n",
       "      <td>4.000000</td>\n",
       "      <td>0.000000</td>\n",
       "      <td>1106.000000</td>\n",
       "      <td>0.644000</td>\n",
       "      <td>0.876000</td>\n",
       "    </tr>\n",
       "    <tr>\n",
       "      <th>25%</th>\n",
       "      <td>29.000000</td>\n",
       "      <td>2.000000</td>\n",
       "      <td>26.000000</td>\n",
       "      <td>0.000000</td>\n",
       "      <td>1365.000000</td>\n",
       "      <td>0.723000</td>\n",
       "      <td>1.110000</td>\n",
       "    </tr>\n",
       "    <tr>\n",
       "      <th>50%</th>\n",
       "      <td>69.000000</td>\n",
       "      <td>3.000000</td>\n",
       "      <td>29.000000</td>\n",
       "      <td>0.000000</td>\n",
       "      <td>1475.000000</td>\n",
       "      <td>0.770000</td>\n",
       "      <td>1.190000</td>\n",
       "    </tr>\n",
       "    <tr>\n",
       "      <th>75%</th>\n",
       "      <td>78.000000</td>\n",
       "      <td>4.000000</td>\n",
       "      <td>30.000000</td>\n",
       "      <td>0.500000</td>\n",
       "      <td>1583.000000</td>\n",
       "      <td>0.832000</td>\n",
       "      <td>1.289000</td>\n",
       "    </tr>\n",
       "    <tr>\n",
       "      <th>max</th>\n",
       "      <td>98.000000</td>\n",
       "      <td>5.000000</td>\n",
       "      <td>30.000000</td>\n",
       "      <td>2.000000</td>\n",
       "      <td>2004.000000</td>\n",
       "      <td>0.893000</td>\n",
       "      <td>1.587000</td>\n",
       "    </tr>\n",
       "  </tbody>\n",
       "</table>\n",
       "</div>"
      ],
      "text/plain": [
       "               Age        Educ        MMSE         CDR         eTIV  \\\n",
       "count  1233.000000  464.000000  829.000000  831.000000  1233.000000   \n",
       "mean     58.861314    3.183190   27.160434    0.287004  1484.379562   \n",
       "std      24.572535    1.310721    3.707881    0.379123   164.547664   \n",
       "min      18.000000    1.000000    4.000000    0.000000  1106.000000   \n",
       "25%      29.000000    2.000000   26.000000    0.000000  1365.000000   \n",
       "50%      69.000000    3.000000   29.000000    0.000000  1475.000000   \n",
       "75%      78.000000    4.000000   30.000000    0.500000  1583.000000   \n",
       "max      98.000000    5.000000   30.000000    2.000000  2004.000000   \n",
       "\n",
       "              nWBV          ASF  \n",
       "count  1233.000000  1233.000000  \n",
       "mean      0.773534     1.197479  \n",
       "std       0.061126     0.131880  \n",
       "min       0.644000     0.876000  \n",
       "25%       0.723000     1.110000  \n",
       "50%       0.770000     1.190000  \n",
       "75%       0.832000     1.289000  \n",
       "max       0.893000     1.587000  "
      ]
     },
     "execution_count": 7,
     "metadata": {},
     "output_type": "execute_result"
    }
   ],
   "source": [
    "find_difference_when_merge = pd.merge(cross_sectional, longitudinal, indicator=True, how='outer')\n",
    "differences = find_difference_when_merge[find_difference_when_merge['_merge'] != 'both']\n",
    "differences_longitudinal = differences[cross_sectional.columns]\n",
    "final_data = pd.concat([cross_sectional, differences_longitudinal], ignore_index=True)\n",
    "\n",
    "\n",
    "final_data.describe()"
   ]
  },
  {
   "cell_type": "markdown",
   "id": "83eb6e0a",
   "metadata": {
    "papermill": {
     "duration": 0.007422,
     "end_time": "2024-04-28T18:12:50.929869",
     "exception": false,
     "start_time": "2024-04-28T18:12:50.922447",
     "status": "completed"
    },
    "tags": []
   },
   "source": [
    "**Check for NA values in the final data**"
   ]
  },
  {
   "cell_type": "code",
   "execution_count": 8,
   "id": "7cb11e99",
   "metadata": {
    "execution": {
     "iopub.execute_input": "2024-04-28T18:12:50.947892Z",
     "iopub.status.busy": "2024-04-28T18:12:50.947009Z",
     "iopub.status.idle": "2024-04-28T18:12:50.957248Z",
     "shell.execute_reply": "2024-04-28T18:12:50.955921Z"
    },
    "papermill": {
     "duration": 0.022181,
     "end_time": "2024-04-28T18:12:50.959695",
     "exception": false,
     "start_time": "2024-04-28T18:12:50.937514",
     "status": "completed"
    },
    "tags": []
   },
   "outputs": [
    {
     "data": {
      "text/plain": [
       "Gender      0\n",
       "Age         0\n",
       "Educ      769\n",
       "MMSE      404\n",
       "CDR       402\n",
       "eTIV        0\n",
       "nWBV        0\n",
       "ASF         0\n",
       "dtype: int64"
      ]
     },
     "execution_count": 8,
     "metadata": {},
     "output_type": "execute_result"
    }
   ],
   "source": [
    "final_data.isna().sum()"
   ]
  },
  {
   "cell_type": "markdown",
   "id": "7425214c",
   "metadata": {
    "papermill": {
     "duration": 0.007579,
     "end_time": "2024-04-28T18:12:50.975345",
     "exception": false,
     "start_time": "2024-04-28T18:12:50.967766",
     "status": "completed"
    },
    "tags": []
   },
   "source": [
    "**Remove the NA values**"
   ]
  },
  {
   "cell_type": "code",
   "execution_count": 9,
   "id": "00e6103d",
   "metadata": {
    "execution": {
     "iopub.execute_input": "2024-04-28T18:12:50.994382Z",
     "iopub.status.busy": "2024-04-28T18:12:50.993353Z",
     "iopub.status.idle": "2024-04-28T18:12:51.005345Z",
     "shell.execute_reply": "2024-04-28T18:12:51.004073Z"
    },
    "papermill": {
     "duration": 0.024303,
     "end_time": "2024-04-28T18:12:51.007974",
     "exception": false,
     "start_time": "2024-04-28T18:12:50.983671",
     "status": "completed"
    },
    "tags": []
   },
   "outputs": [
    {
     "data": {
      "text/plain": [
       "Gender    0\n",
       "Age       0\n",
       "Educ      0\n",
       "MMSE      0\n",
       "CDR       0\n",
       "eTIV      0\n",
       "nWBV      0\n",
       "ASF       0\n",
       "dtype: int64"
      ]
     },
     "execution_count": 9,
     "metadata": {},
     "output_type": "execute_result"
    }
   ],
   "source": [
    "final_data = final_data.dropna(subset=['Educ', 'MMSE', 'CDR'])\n",
    "final_data.isna().sum()"
   ]
  }
 ],
 "metadata": {
  "kaggle": {
   "accelerator": "none",
   "dataSources": [
    {
     "datasetId": 1980,
     "sourceId": 3398,
     "sourceType": "datasetVersion"
    }
   ],
   "dockerImageVersionId": 30698,
   "isGpuEnabled": false,
   "isInternetEnabled": false,
   "language": "python",
   "sourceType": "notebook"
  },
  "kernelspec": {
   "display_name": "Python 3",
   "language": "python",
   "name": "python3"
  },
  "language_info": {
   "codemirror_mode": {
    "name": "ipython",
    "version": 3
   },
   "file_extension": ".py",
   "mimetype": "text/x-python",
   "name": "python",
   "nbconvert_exporter": "python",
   "pygments_lexer": "ipython3",
   "version": "3.10.13"
  },
  "papermill": {
   "default_parameters": {},
   "duration": 7.119954,
   "end_time": "2024-04-28T18:12:51.637311",
   "environment_variables": {},
   "exception": null,
   "input_path": "__notebook__.ipynb",
   "output_path": "__notebook__.ipynb",
   "parameters": {},
   "start_time": "2024-04-28T18:12:44.517357",
   "version": "2.5.0"
  }
 },
 "nbformat": 4,
 "nbformat_minor": 5
}
