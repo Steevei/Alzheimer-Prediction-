{
 "cells": [
  {
   "cell_type": "markdown",
   "id": "9eb54946",
   "metadata": {
    "papermill": {
     "duration": 0.018768,
     "end_time": "2024-05-20T18:06:11.614152",
     "exception": false,
     "start_time": "2024-05-20T18:06:11.595384",
     "status": "completed"
    },
    "tags": []
   },
   "source": [
    "# **ALZHEIMER PREDICTION**\n",
    "In the following project the objective is to predict whether a patient has potential to develop Alzheimer desease based on data that was obtained using MRI (Magnetic Resonance Image) for Young, Middle Aged, Nondemented and Demented Older Adults."
   ]
  },
  {
   "cell_type": "markdown",
   "id": "50c61363",
   "metadata": {
    "papermill": {
     "duration": 0.017683,
     "end_time": "2024-05-20T18:06:11.650585",
     "exception": false,
     "start_time": "2024-05-20T18:06:11.632902",
     "status": "completed"
    },
    "tags": []
   },
   "source": [
    "# **Importing Libraries**"
   ]
  },
  {
   "cell_type": "code",
   "execution_count": 1,
   "id": "f113285c",
   "metadata": {
    "execution": {
     "iopub.execute_input": "2024-05-20T18:06:11.689342Z",
     "iopub.status.busy": "2024-05-20T18:06:11.688455Z",
     "iopub.status.idle": "2024-05-20T18:06:14.617243Z",
     "shell.execute_reply": "2024-05-20T18:06:14.616084Z"
    },
    "papermill": {
     "duration": 2.952519,
     "end_time": "2024-05-20T18:06:14.620576",
     "exception": false,
     "start_time": "2024-05-20T18:06:11.668057",
     "status": "completed"
    },
    "tags": []
   },
   "outputs": [],
   "source": [
    "import pandas as pd\n",
    "import numpy as np\n",
    "\n",
    "# Standardization \n",
    "from sklearn.preprocessing import StandardScaler\n",
    "\n",
    "# Data splitting\n",
    "from sklearn.model_selection import train_test_split, cross_val_score\n",
    "from sklearn.metrics import classification_report\n",
    "\n",
    "# Models\n",
    "from sklearn.linear_model import LogisticRegression\n",
    "from sklearn.tree import DecisionTreeClassifier\n",
    "from sklearn.ensemble import RandomForestClassifier\n",
    "\n",
    "# Plots\n",
    "#import seaborn as sns\n",
    "import matplotlib.pyplot as plt\n",
    "from sklearn.tree import plot_tree"
   ]
  },
  {
   "cell_type": "markdown",
   "id": "32ba04f6",
   "metadata": {
    "papermill": {
     "duration": 0.017841,
     "end_time": "2024-05-20T18:06:14.659804",
     "exception": false,
     "start_time": "2024-05-20T18:06:14.641963",
     "status": "completed"
    },
    "tags": []
   },
   "source": [
    "# **Loading Datasets**"
   ]
  },
  {
   "cell_type": "code",
   "execution_count": 2,
   "id": "2af59ba0",
   "metadata": {
    "execution": {
     "iopub.execute_input": "2024-05-20T18:06:14.697181Z",
     "iopub.status.busy": "2024-05-20T18:06:14.696170Z",
     "iopub.status.idle": "2024-05-20T18:06:14.759601Z",
     "shell.execute_reply": "2024-05-20T18:06:14.758439Z"
    },
    "papermill": {
     "duration": 0.085257,
     "end_time": "2024-05-20T18:06:14.762496",
     "exception": false,
     "start_time": "2024-05-20T18:06:14.677239",
     "status": "completed"
    },
    "tags": []
   },
   "outputs": [
    {
     "data": {
      "text/html": [
       "<div>\n",
       "<style scoped>\n",
       "    .dataframe tbody tr th:only-of-type {\n",
       "        vertical-align: middle;\n",
       "    }\n",
       "\n",
       "    .dataframe tbody tr th {\n",
       "        vertical-align: top;\n",
       "    }\n",
       "\n",
       "    .dataframe thead th {\n",
       "        text-align: right;\n",
       "    }\n",
       "</style>\n",
       "<table border=\"1\" class=\"dataframe\">\n",
       "  <thead>\n",
       "    <tr style=\"text-align: right;\">\n",
       "      <th></th>\n",
       "      <th>ID</th>\n",
       "      <th>M/F</th>\n",
       "      <th>Hand</th>\n",
       "      <th>Age</th>\n",
       "      <th>Educ</th>\n",
       "      <th>SES</th>\n",
       "      <th>MMSE</th>\n",
       "      <th>CDR</th>\n",
       "      <th>eTIV</th>\n",
       "      <th>nWBV</th>\n",
       "      <th>ASF</th>\n",
       "      <th>Delay</th>\n",
       "    </tr>\n",
       "  </thead>\n",
       "  <tbody>\n",
       "    <tr>\n",
       "      <th>0</th>\n",
       "      <td>OAS1_0001_MR1</td>\n",
       "      <td>F</td>\n",
       "      <td>R</td>\n",
       "      <td>74</td>\n",
       "      <td>2.0</td>\n",
       "      <td>3.0</td>\n",
       "      <td>29.0</td>\n",
       "      <td>0.0</td>\n",
       "      <td>1344</td>\n",
       "      <td>0.743</td>\n",
       "      <td>1.306</td>\n",
       "      <td>NaN</td>\n",
       "    </tr>\n",
       "    <tr>\n",
       "      <th>1</th>\n",
       "      <td>OAS1_0002_MR1</td>\n",
       "      <td>F</td>\n",
       "      <td>R</td>\n",
       "      <td>55</td>\n",
       "      <td>4.0</td>\n",
       "      <td>1.0</td>\n",
       "      <td>29.0</td>\n",
       "      <td>0.0</td>\n",
       "      <td>1147</td>\n",
       "      <td>0.810</td>\n",
       "      <td>1.531</td>\n",
       "      <td>NaN</td>\n",
       "    </tr>\n",
       "    <tr>\n",
       "      <th>2</th>\n",
       "      <td>OAS1_0003_MR1</td>\n",
       "      <td>F</td>\n",
       "      <td>R</td>\n",
       "      <td>73</td>\n",
       "      <td>4.0</td>\n",
       "      <td>3.0</td>\n",
       "      <td>27.0</td>\n",
       "      <td>0.5</td>\n",
       "      <td>1454</td>\n",
       "      <td>0.708</td>\n",
       "      <td>1.207</td>\n",
       "      <td>NaN</td>\n",
       "    </tr>\n",
       "    <tr>\n",
       "      <th>3</th>\n",
       "      <td>OAS1_0004_MR1</td>\n",
       "      <td>M</td>\n",
       "      <td>R</td>\n",
       "      <td>28</td>\n",
       "      <td>NaN</td>\n",
       "      <td>NaN</td>\n",
       "      <td>NaN</td>\n",
       "      <td>NaN</td>\n",
       "      <td>1588</td>\n",
       "      <td>0.803</td>\n",
       "      <td>1.105</td>\n",
       "      <td>NaN</td>\n",
       "    </tr>\n",
       "    <tr>\n",
       "      <th>4</th>\n",
       "      <td>OAS1_0005_MR1</td>\n",
       "      <td>M</td>\n",
       "      <td>R</td>\n",
       "      <td>18</td>\n",
       "      <td>NaN</td>\n",
       "      <td>NaN</td>\n",
       "      <td>NaN</td>\n",
       "      <td>NaN</td>\n",
       "      <td>1737</td>\n",
       "      <td>0.848</td>\n",
       "      <td>1.010</td>\n",
       "      <td>NaN</td>\n",
       "    </tr>\n",
       "  </tbody>\n",
       "</table>\n",
       "</div>"
      ],
      "text/plain": [
       "              ID M/F Hand  Age  Educ  SES  MMSE  CDR  eTIV   nWBV    ASF  \\\n",
       "0  OAS1_0001_MR1   F    R   74   2.0  3.0  29.0  0.0  1344  0.743  1.306   \n",
       "1  OAS1_0002_MR1   F    R   55   4.0  1.0  29.0  0.0  1147  0.810  1.531   \n",
       "2  OAS1_0003_MR1   F    R   73   4.0  3.0  27.0  0.5  1454  0.708  1.207   \n",
       "3  OAS1_0004_MR1   M    R   28   NaN  NaN   NaN  NaN  1588  0.803  1.105   \n",
       "4  OAS1_0005_MR1   M    R   18   NaN  NaN   NaN  NaN  1737  0.848  1.010   \n",
       "\n",
       "   Delay  \n",
       "0    NaN  \n",
       "1    NaN  \n",
       "2    NaN  \n",
       "3    NaN  \n",
       "4    NaN  "
      ]
     },
     "execution_count": 2,
     "metadata": {},
     "output_type": "execute_result"
    }
   ],
   "source": [
    "#Cross-sectional MRI Data in Young, Middle Aged, Nondemented and Demented Older Adults\n",
    "cross_sectional = pd.read_csv('/kaggle/input/mri-and-alzheimers/oasis_cross-sectional.csv')\n",
    "cross_sectional.head()"
   ]
  },
  {
   "cell_type": "code",
   "execution_count": 3,
   "id": "962541a7",
   "metadata": {
    "execution": {
     "iopub.execute_input": "2024-05-20T18:06:14.801600Z",
     "iopub.status.busy": "2024-05-20T18:06:14.800816Z",
     "iopub.status.idle": "2024-05-20T18:06:14.839349Z",
     "shell.execute_reply": "2024-05-20T18:06:14.838156Z"
    },
    "papermill": {
     "duration": 0.061213,
     "end_time": "2024-05-20T18:06:14.842210",
     "exception": false,
     "start_time": "2024-05-20T18:06:14.780997",
     "status": "completed"
    },
    "tags": []
   },
   "outputs": [
    {
     "data": {
      "text/html": [
       "<div>\n",
       "<style scoped>\n",
       "    .dataframe tbody tr th:only-of-type {\n",
       "        vertical-align: middle;\n",
       "    }\n",
       "\n",
       "    .dataframe tbody tr th {\n",
       "        vertical-align: top;\n",
       "    }\n",
       "\n",
       "    .dataframe thead th {\n",
       "        text-align: right;\n",
       "    }\n",
       "</style>\n",
       "<table border=\"1\" class=\"dataframe\">\n",
       "  <thead>\n",
       "    <tr style=\"text-align: right;\">\n",
       "      <th></th>\n",
       "      <th>Subject ID</th>\n",
       "      <th>MRI ID</th>\n",
       "      <th>Group</th>\n",
       "      <th>Visit</th>\n",
       "      <th>MR Delay</th>\n",
       "      <th>M/F</th>\n",
       "      <th>Hand</th>\n",
       "      <th>Age</th>\n",
       "      <th>EDUC</th>\n",
       "      <th>SES</th>\n",
       "      <th>MMSE</th>\n",
       "      <th>CDR</th>\n",
       "      <th>eTIV</th>\n",
       "      <th>nWBV</th>\n",
       "      <th>ASF</th>\n",
       "    </tr>\n",
       "  </thead>\n",
       "  <tbody>\n",
       "    <tr>\n",
       "      <th>0</th>\n",
       "      <td>OAS2_0001</td>\n",
       "      <td>OAS2_0001_MR1</td>\n",
       "      <td>Nondemented</td>\n",
       "      <td>1</td>\n",
       "      <td>0</td>\n",
       "      <td>M</td>\n",
       "      <td>R</td>\n",
       "      <td>87</td>\n",
       "      <td>14</td>\n",
       "      <td>2.0</td>\n",
       "      <td>27.0</td>\n",
       "      <td>0.0</td>\n",
       "      <td>1987</td>\n",
       "      <td>0.696</td>\n",
       "      <td>0.883</td>\n",
       "    </tr>\n",
       "    <tr>\n",
       "      <th>1</th>\n",
       "      <td>OAS2_0001</td>\n",
       "      <td>OAS2_0001_MR2</td>\n",
       "      <td>Nondemented</td>\n",
       "      <td>2</td>\n",
       "      <td>457</td>\n",
       "      <td>M</td>\n",
       "      <td>R</td>\n",
       "      <td>88</td>\n",
       "      <td>14</td>\n",
       "      <td>2.0</td>\n",
       "      <td>30.0</td>\n",
       "      <td>0.0</td>\n",
       "      <td>2004</td>\n",
       "      <td>0.681</td>\n",
       "      <td>0.876</td>\n",
       "    </tr>\n",
       "    <tr>\n",
       "      <th>2</th>\n",
       "      <td>OAS2_0002</td>\n",
       "      <td>OAS2_0002_MR1</td>\n",
       "      <td>Demented</td>\n",
       "      <td>1</td>\n",
       "      <td>0</td>\n",
       "      <td>M</td>\n",
       "      <td>R</td>\n",
       "      <td>75</td>\n",
       "      <td>12</td>\n",
       "      <td>NaN</td>\n",
       "      <td>23.0</td>\n",
       "      <td>0.5</td>\n",
       "      <td>1678</td>\n",
       "      <td>0.736</td>\n",
       "      <td>1.046</td>\n",
       "    </tr>\n",
       "    <tr>\n",
       "      <th>3</th>\n",
       "      <td>OAS2_0002</td>\n",
       "      <td>OAS2_0002_MR2</td>\n",
       "      <td>Demented</td>\n",
       "      <td>2</td>\n",
       "      <td>560</td>\n",
       "      <td>M</td>\n",
       "      <td>R</td>\n",
       "      <td>76</td>\n",
       "      <td>12</td>\n",
       "      <td>NaN</td>\n",
       "      <td>28.0</td>\n",
       "      <td>0.5</td>\n",
       "      <td>1738</td>\n",
       "      <td>0.713</td>\n",
       "      <td>1.010</td>\n",
       "    </tr>\n",
       "    <tr>\n",
       "      <th>4</th>\n",
       "      <td>OAS2_0002</td>\n",
       "      <td>OAS2_0002_MR3</td>\n",
       "      <td>Demented</td>\n",
       "      <td>3</td>\n",
       "      <td>1895</td>\n",
       "      <td>M</td>\n",
       "      <td>R</td>\n",
       "      <td>80</td>\n",
       "      <td>12</td>\n",
       "      <td>NaN</td>\n",
       "      <td>22.0</td>\n",
       "      <td>0.5</td>\n",
       "      <td>1698</td>\n",
       "      <td>0.701</td>\n",
       "      <td>1.034</td>\n",
       "    </tr>\n",
       "  </tbody>\n",
       "</table>\n",
       "</div>"
      ],
      "text/plain": [
       "  Subject ID         MRI ID        Group  Visit  MR Delay M/F Hand  Age  EDUC  \\\n",
       "0  OAS2_0001  OAS2_0001_MR1  Nondemented      1         0   M    R   87    14   \n",
       "1  OAS2_0001  OAS2_0001_MR2  Nondemented      2       457   M    R   88    14   \n",
       "2  OAS2_0002  OAS2_0002_MR1     Demented      1         0   M    R   75    12   \n",
       "3  OAS2_0002  OAS2_0002_MR2     Demented      2       560   M    R   76    12   \n",
       "4  OAS2_0002  OAS2_0002_MR3     Demented      3      1895   M    R   80    12   \n",
       "\n",
       "   SES  MMSE  CDR  eTIV   nWBV    ASF  \n",
       "0  2.0  27.0  0.0  1987  0.696  0.883  \n",
       "1  2.0  30.0  0.0  2004  0.681  0.876  \n",
       "2  NaN  23.0  0.5  1678  0.736  1.046  \n",
       "3  NaN  28.0  0.5  1738  0.713  1.010  \n",
       "4  NaN  22.0  0.5  1698  0.701  1.034  "
      ]
     },
     "execution_count": 3,
     "metadata": {},
     "output_type": "execute_result"
    }
   ],
   "source": [
    "#Longitudinal MRI Data in Nondemented and Demented Older Adults\n",
    "longitudinal = pd.read_csv('/kaggle/input/mri-and-alzheimers/oasis_longitudinal.csv')\n",
    "longitudinal.head()"
   ]
  },
  {
   "cell_type": "markdown",
   "id": "199471ef",
   "metadata": {
    "papermill": {
     "duration": 0.018127,
     "end_time": "2024-05-20T18:06:14.878484",
     "exception": false,
     "start_time": "2024-05-20T18:06:14.860357",
     "status": "completed"
    },
    "tags": []
   },
   "source": [
    "#  **Data Preparation**"
   ]
  },
  {
   "cell_type": "markdown",
   "id": "4002bdd3",
   "metadata": {
    "papermill": {
     "duration": 0.01768,
     "end_time": "2024-05-20T18:06:14.914480",
     "exception": false,
     "start_time": "2024-05-20T18:06:14.896800",
     "status": "completed"
    },
    "tags": []
   },
   "source": [
    "**Get rid of the unnecessary columns, renaming columns**"
   ]
  },
  {
   "cell_type": "code",
   "execution_count": 4,
   "id": "1cdfae01",
   "metadata": {
    "execution": {
     "iopub.execute_input": "2024-05-20T18:06:14.953001Z",
     "iopub.status.busy": "2024-05-20T18:06:14.952152Z",
     "iopub.status.idle": "2024-05-20T18:06:15.001828Z",
     "shell.execute_reply": "2024-05-20T18:06:15.000421Z"
    },
    "papermill": {
     "duration": 0.072357,
     "end_time": "2024-05-20T18:06:15.004795",
     "exception": false,
     "start_time": "2024-05-20T18:06:14.932438",
     "status": "completed"
    },
    "tags": []
   },
   "outputs": [
    {
     "data": {
      "text/html": [
       "<div>\n",
       "<style scoped>\n",
       "    .dataframe tbody tr th:only-of-type {\n",
       "        vertical-align: middle;\n",
       "    }\n",
       "\n",
       "    .dataframe tbody tr th {\n",
       "        vertical-align: top;\n",
       "    }\n",
       "\n",
       "    .dataframe thead th {\n",
       "        text-align: right;\n",
       "    }\n",
       "</style>\n",
       "<table border=\"1\" class=\"dataframe\">\n",
       "  <thead>\n",
       "    <tr style=\"text-align: right;\">\n",
       "      <th></th>\n",
       "      <th>MR Delay</th>\n",
       "      <th>Age</th>\n",
       "      <th>EDUC</th>\n",
       "      <th>MMSE</th>\n",
       "      <th>CDR</th>\n",
       "      <th>eTIV</th>\n",
       "      <th>nWBV</th>\n",
       "      <th>ASF</th>\n",
       "    </tr>\n",
       "  </thead>\n",
       "  <tbody>\n",
       "    <tr>\n",
       "      <th>count</th>\n",
       "      <td>373.000000</td>\n",
       "      <td>373.000000</td>\n",
       "      <td>373.000000</td>\n",
       "      <td>371.000000</td>\n",
       "      <td>373.000000</td>\n",
       "      <td>373.000000</td>\n",
       "      <td>373.000000</td>\n",
       "      <td>373.000000</td>\n",
       "    </tr>\n",
       "    <tr>\n",
       "      <th>mean</th>\n",
       "      <td>595.104558</td>\n",
       "      <td>77.013405</td>\n",
       "      <td>14.597855</td>\n",
       "      <td>27.342318</td>\n",
       "      <td>0.290885</td>\n",
       "      <td>1488.128686</td>\n",
       "      <td>0.729568</td>\n",
       "      <td>1.195461</td>\n",
       "    </tr>\n",
       "    <tr>\n",
       "      <th>std</th>\n",
       "      <td>635.485118</td>\n",
       "      <td>7.640957</td>\n",
       "      <td>2.876339</td>\n",
       "      <td>3.683244</td>\n",
       "      <td>0.374557</td>\n",
       "      <td>176.139286</td>\n",
       "      <td>0.037135</td>\n",
       "      <td>0.138092</td>\n",
       "    </tr>\n",
       "    <tr>\n",
       "      <th>min</th>\n",
       "      <td>0.000000</td>\n",
       "      <td>60.000000</td>\n",
       "      <td>6.000000</td>\n",
       "      <td>4.000000</td>\n",
       "      <td>0.000000</td>\n",
       "      <td>1106.000000</td>\n",
       "      <td>0.644000</td>\n",
       "      <td>0.876000</td>\n",
       "    </tr>\n",
       "    <tr>\n",
       "      <th>25%</th>\n",
       "      <td>0.000000</td>\n",
       "      <td>71.000000</td>\n",
       "      <td>12.000000</td>\n",
       "      <td>27.000000</td>\n",
       "      <td>0.000000</td>\n",
       "      <td>1357.000000</td>\n",
       "      <td>0.700000</td>\n",
       "      <td>1.099000</td>\n",
       "    </tr>\n",
       "    <tr>\n",
       "      <th>50%</th>\n",
       "      <td>552.000000</td>\n",
       "      <td>77.000000</td>\n",
       "      <td>15.000000</td>\n",
       "      <td>29.000000</td>\n",
       "      <td>0.000000</td>\n",
       "      <td>1470.000000</td>\n",
       "      <td>0.729000</td>\n",
       "      <td>1.194000</td>\n",
       "    </tr>\n",
       "    <tr>\n",
       "      <th>75%</th>\n",
       "      <td>873.000000</td>\n",
       "      <td>82.000000</td>\n",
       "      <td>16.000000</td>\n",
       "      <td>30.000000</td>\n",
       "      <td>0.500000</td>\n",
       "      <td>1597.000000</td>\n",
       "      <td>0.756000</td>\n",
       "      <td>1.293000</td>\n",
       "    </tr>\n",
       "    <tr>\n",
       "      <th>max</th>\n",
       "      <td>2639.000000</td>\n",
       "      <td>98.000000</td>\n",
       "      <td>23.000000</td>\n",
       "      <td>30.000000</td>\n",
       "      <td>2.000000</td>\n",
       "      <td>2004.000000</td>\n",
       "      <td>0.837000</td>\n",
       "      <td>1.587000</td>\n",
       "    </tr>\n",
       "  </tbody>\n",
       "</table>\n",
       "</div>"
      ],
      "text/plain": [
       "          MR Delay         Age        EDUC        MMSE         CDR  \\\n",
       "count   373.000000  373.000000  373.000000  371.000000  373.000000   \n",
       "mean    595.104558   77.013405   14.597855   27.342318    0.290885   \n",
       "std     635.485118    7.640957    2.876339    3.683244    0.374557   \n",
       "min       0.000000   60.000000    6.000000    4.000000    0.000000   \n",
       "25%       0.000000   71.000000   12.000000   27.000000    0.000000   \n",
       "50%     552.000000   77.000000   15.000000   29.000000    0.000000   \n",
       "75%     873.000000   82.000000   16.000000   30.000000    0.500000   \n",
       "max    2639.000000   98.000000   23.000000   30.000000    2.000000   \n",
       "\n",
       "              eTIV        nWBV         ASF  \n",
       "count   373.000000  373.000000  373.000000  \n",
       "mean   1488.128686    0.729568    1.195461  \n",
       "std     176.139286    0.037135    0.138092  \n",
       "min    1106.000000    0.644000    0.876000  \n",
       "25%    1357.000000    0.700000    1.099000  \n",
       "50%    1470.000000    0.729000    1.194000  \n",
       "75%    1597.000000    0.756000    1.293000  \n",
       "max    2004.000000    0.837000    1.587000  "
      ]
     },
     "execution_count": 4,
     "metadata": {},
     "output_type": "execute_result"
    }
   ],
   "source": [
    "longitudinal = longitudinal.drop(columns=['Subject ID', 'MRI ID', 'Hand', 'Visit', 'SES'])\n",
    "longitudinal = longitudinal.rename(columns={'M/F' : 'Gender'})\n",
    "longitudinal.describe()"
   ]
  },
  {
   "cell_type": "code",
   "execution_count": 5,
   "id": "9284d948",
   "metadata": {
    "execution": {
     "iopub.execute_input": "2024-05-20T18:06:15.044290Z",
     "iopub.status.busy": "2024-05-20T18:06:15.043803Z",
     "iopub.status.idle": "2024-05-20T18:06:15.084991Z",
     "shell.execute_reply": "2024-05-20T18:06:15.083831Z"
    },
    "papermill": {
     "duration": 0.063756,
     "end_time": "2024-05-20T18:06:15.087606",
     "exception": false,
     "start_time": "2024-05-20T18:06:15.023850",
     "status": "completed"
    },
    "tags": []
   },
   "outputs": [
    {
     "data": {
      "text/html": [
       "<div>\n",
       "<style scoped>\n",
       "    .dataframe tbody tr th:only-of-type {\n",
       "        vertical-align: middle;\n",
       "    }\n",
       "\n",
       "    .dataframe tbody tr th {\n",
       "        vertical-align: top;\n",
       "    }\n",
       "\n",
       "    .dataframe thead th {\n",
       "        text-align: right;\n",
       "    }\n",
       "</style>\n",
       "<table border=\"1\" class=\"dataframe\">\n",
       "  <thead>\n",
       "    <tr style=\"text-align: right;\">\n",
       "      <th></th>\n",
       "      <th>Age</th>\n",
       "      <th>Educ</th>\n",
       "      <th>MMSE</th>\n",
       "      <th>CDR</th>\n",
       "      <th>eTIV</th>\n",
       "      <th>nWBV</th>\n",
       "      <th>ASF</th>\n",
       "    </tr>\n",
       "  </thead>\n",
       "  <tbody>\n",
       "    <tr>\n",
       "      <th>count</th>\n",
       "      <td>436.000000</td>\n",
       "      <td>235.000000</td>\n",
       "      <td>235.00000</td>\n",
       "      <td>235.000000</td>\n",
       "      <td>436.000000</td>\n",
       "      <td>436.000000</td>\n",
       "      <td>436.000000</td>\n",
       "    </tr>\n",
       "    <tr>\n",
       "      <th>mean</th>\n",
       "      <td>51.357798</td>\n",
       "      <td>3.178723</td>\n",
       "      <td>27.06383</td>\n",
       "      <td>0.285106</td>\n",
       "      <td>1481.919725</td>\n",
       "      <td>0.791670</td>\n",
       "      <td>1.198894</td>\n",
       "    </tr>\n",
       "    <tr>\n",
       "      <th>std</th>\n",
       "      <td>25.269862</td>\n",
       "      <td>1.311510</td>\n",
       "      <td>3.69687</td>\n",
       "      <td>0.383405</td>\n",
       "      <td>158.740866</td>\n",
       "      <td>0.059937</td>\n",
       "      <td>0.128682</td>\n",
       "    </tr>\n",
       "    <tr>\n",
       "      <th>min</th>\n",
       "      <td>18.000000</td>\n",
       "      <td>1.000000</td>\n",
       "      <td>14.00000</td>\n",
       "      <td>0.000000</td>\n",
       "      <td>1123.000000</td>\n",
       "      <td>0.644000</td>\n",
       "      <td>0.881000</td>\n",
       "    </tr>\n",
       "    <tr>\n",
       "      <th>25%</th>\n",
       "      <td>23.000000</td>\n",
       "      <td>2.000000</td>\n",
       "      <td>26.00000</td>\n",
       "      <td>0.000000</td>\n",
       "      <td>1367.750000</td>\n",
       "      <td>0.742750</td>\n",
       "      <td>1.111750</td>\n",
       "    </tr>\n",
       "    <tr>\n",
       "      <th>50%</th>\n",
       "      <td>54.000000</td>\n",
       "      <td>3.000000</td>\n",
       "      <td>29.00000</td>\n",
       "      <td>0.000000</td>\n",
       "      <td>1475.500000</td>\n",
       "      <td>0.809000</td>\n",
       "      <td>1.190000</td>\n",
       "    </tr>\n",
       "    <tr>\n",
       "      <th>75%</th>\n",
       "      <td>74.000000</td>\n",
       "      <td>4.000000</td>\n",
       "      <td>30.00000</td>\n",
       "      <td>0.500000</td>\n",
       "      <td>1579.250000</td>\n",
       "      <td>0.842000</td>\n",
       "      <td>1.284250</td>\n",
       "    </tr>\n",
       "    <tr>\n",
       "      <th>max</th>\n",
       "      <td>96.000000</td>\n",
       "      <td>5.000000</td>\n",
       "      <td>30.00000</td>\n",
       "      <td>2.000000</td>\n",
       "      <td>1992.000000</td>\n",
       "      <td>0.893000</td>\n",
       "      <td>1.563000</td>\n",
       "    </tr>\n",
       "  </tbody>\n",
       "</table>\n",
       "</div>"
      ],
      "text/plain": [
       "              Age        Educ       MMSE         CDR         eTIV        nWBV  \\\n",
       "count  436.000000  235.000000  235.00000  235.000000   436.000000  436.000000   \n",
       "mean    51.357798    3.178723   27.06383    0.285106  1481.919725    0.791670   \n",
       "std     25.269862    1.311510    3.69687    0.383405   158.740866    0.059937   \n",
       "min     18.000000    1.000000   14.00000    0.000000  1123.000000    0.644000   \n",
       "25%     23.000000    2.000000   26.00000    0.000000  1367.750000    0.742750   \n",
       "50%     54.000000    3.000000   29.00000    0.000000  1475.500000    0.809000   \n",
       "75%     74.000000    4.000000   30.00000    0.500000  1579.250000    0.842000   \n",
       "max     96.000000    5.000000   30.00000    2.000000  1992.000000    0.893000   \n",
       "\n",
       "              ASF  \n",
       "count  436.000000  \n",
       "mean     1.198894  \n",
       "std      0.128682  \n",
       "min      0.881000  \n",
       "25%      1.111750  \n",
       "50%      1.190000  \n",
       "75%      1.284250  \n",
       "max      1.563000  "
      ]
     },
     "execution_count": 5,
     "metadata": {},
     "output_type": "execute_result"
    }
   ],
   "source": [
    "cross_sectional = cross_sectional.drop(columns=['ID', 'Delay', 'Hand','SES'])\n",
    "cross_sectional = cross_sectional.rename(columns={'M/F' : 'Gender'})\n",
    "cross_sectional.describe()"
   ]
  },
  {
   "cell_type": "markdown",
   "id": "27df3249",
   "metadata": {
    "papermill": {
     "duration": 0.018284,
     "end_time": "2024-05-20T18:06:15.124492",
     "exception": false,
     "start_time": "2024-05-20T18:06:15.106208",
     "status": "completed"
    },
    "tags": []
   },
   "source": [
    "**Cheking if the two datasets are completely equal so that I know whether I should merge them together**"
   ]
  },
  {
   "cell_type": "code",
   "execution_count": 6,
   "id": "79729e59",
   "metadata": {
    "execution": {
     "iopub.execute_input": "2024-05-20T18:06:15.166263Z",
     "iopub.status.busy": "2024-05-20T18:06:15.165836Z",
     "iopub.status.idle": "2024-05-20T18:06:15.175220Z",
     "shell.execute_reply": "2024-05-20T18:06:15.174110Z"
    },
    "papermill": {
     "duration": 0.034589,
     "end_time": "2024-05-20T18:06:15.177727",
     "exception": false,
     "start_time": "2024-05-20T18:06:15.143138",
     "status": "completed"
    },
    "tags": []
   },
   "outputs": [
    {
     "data": {
      "text/plain": [
       "False"
      ]
     },
     "execution_count": 6,
     "metadata": {},
     "output_type": "execute_result"
    }
   ],
   "source": [
    "def check_if_equal(df1, df2):\n",
    "    if df1.shape != df2.shape:\n",
    "        return False\n",
    "    df1_sorted = df1.sort_values(by=df1.columns.tolist()).reset_index(drop=True)\n",
    "    df2_sorted = df2.sort_values(by=df2.columns.tolist()).reset_index(drop=True)\n",
    "    return df1_sorted.equals(df2_sorted)\n",
    "\n",
    "check_if_equal(cross_sectional,longitudinal)"
   ]
  },
  {
   "cell_type": "markdown",
   "id": "2c7ab8cd",
   "metadata": {
    "papermill": {
     "duration": 0.018436,
     "end_time": "2024-05-20T18:06:15.215025",
     "exception": false,
     "start_time": "2024-05-20T18:06:15.196589",
     "status": "completed"
    },
    "tags": []
   },
   "source": [
    "**Mergin the datasets (since we do have some distinct columns between them both)**"
   ]
  },
  {
   "cell_type": "code",
   "execution_count": 7,
   "id": "a90cbf73",
   "metadata": {
    "execution": {
     "iopub.execute_input": "2024-05-20T18:06:15.254866Z",
     "iopub.status.busy": "2024-05-20T18:06:15.254188Z",
     "iopub.status.idle": "2024-05-20T18:06:15.319541Z",
     "shell.execute_reply": "2024-05-20T18:06:15.318339Z"
    },
    "papermill": {
     "duration": 0.088721,
     "end_time": "2024-05-20T18:06:15.322440",
     "exception": false,
     "start_time": "2024-05-20T18:06:15.233719",
     "status": "completed"
    },
    "tags": []
   },
   "outputs": [
    {
     "data": {
      "text/html": [
       "<div>\n",
       "<style scoped>\n",
       "    .dataframe tbody tr th:only-of-type {\n",
       "        vertical-align: middle;\n",
       "    }\n",
       "\n",
       "    .dataframe tbody tr th {\n",
       "        vertical-align: top;\n",
       "    }\n",
       "\n",
       "    .dataframe thead th {\n",
       "        text-align: right;\n",
       "    }\n",
       "</style>\n",
       "<table border=\"1\" class=\"dataframe\">\n",
       "  <thead>\n",
       "    <tr style=\"text-align: right;\">\n",
       "      <th></th>\n",
       "      <th>Age</th>\n",
       "      <th>Educ</th>\n",
       "      <th>MMSE</th>\n",
       "      <th>CDR</th>\n",
       "      <th>eTIV</th>\n",
       "      <th>nWBV</th>\n",
       "      <th>ASF</th>\n",
       "    </tr>\n",
       "  </thead>\n",
       "  <tbody>\n",
       "    <tr>\n",
       "      <th>count</th>\n",
       "      <td>1233.000000</td>\n",
       "      <td>464.000000</td>\n",
       "      <td>829.000000</td>\n",
       "      <td>831.000000</td>\n",
       "      <td>1233.000000</td>\n",
       "      <td>1233.000000</td>\n",
       "      <td>1233.000000</td>\n",
       "    </tr>\n",
       "    <tr>\n",
       "      <th>mean</th>\n",
       "      <td>58.861314</td>\n",
       "      <td>3.183190</td>\n",
       "      <td>27.160434</td>\n",
       "      <td>0.287004</td>\n",
       "      <td>1484.379562</td>\n",
       "      <td>0.773534</td>\n",
       "      <td>1.197479</td>\n",
       "    </tr>\n",
       "    <tr>\n",
       "      <th>std</th>\n",
       "      <td>24.572535</td>\n",
       "      <td>1.310721</td>\n",
       "      <td>3.707881</td>\n",
       "      <td>0.379123</td>\n",
       "      <td>164.547664</td>\n",
       "      <td>0.061126</td>\n",
       "      <td>0.131880</td>\n",
       "    </tr>\n",
       "    <tr>\n",
       "      <th>min</th>\n",
       "      <td>18.000000</td>\n",
       "      <td>1.000000</td>\n",
       "      <td>4.000000</td>\n",
       "      <td>0.000000</td>\n",
       "      <td>1106.000000</td>\n",
       "      <td>0.644000</td>\n",
       "      <td>0.876000</td>\n",
       "    </tr>\n",
       "    <tr>\n",
       "      <th>25%</th>\n",
       "      <td>29.000000</td>\n",
       "      <td>2.000000</td>\n",
       "      <td>26.000000</td>\n",
       "      <td>0.000000</td>\n",
       "      <td>1365.000000</td>\n",
       "      <td>0.723000</td>\n",
       "      <td>1.110000</td>\n",
       "    </tr>\n",
       "    <tr>\n",
       "      <th>50%</th>\n",
       "      <td>69.000000</td>\n",
       "      <td>3.000000</td>\n",
       "      <td>29.000000</td>\n",
       "      <td>0.000000</td>\n",
       "      <td>1475.000000</td>\n",
       "      <td>0.770000</td>\n",
       "      <td>1.190000</td>\n",
       "    </tr>\n",
       "    <tr>\n",
       "      <th>75%</th>\n",
       "      <td>78.000000</td>\n",
       "      <td>4.000000</td>\n",
       "      <td>30.000000</td>\n",
       "      <td>0.500000</td>\n",
       "      <td>1583.000000</td>\n",
       "      <td>0.832000</td>\n",
       "      <td>1.289000</td>\n",
       "    </tr>\n",
       "    <tr>\n",
       "      <th>max</th>\n",
       "      <td>98.000000</td>\n",
       "      <td>5.000000</td>\n",
       "      <td>30.000000</td>\n",
       "      <td>2.000000</td>\n",
       "      <td>2004.000000</td>\n",
       "      <td>0.893000</td>\n",
       "      <td>1.587000</td>\n",
       "    </tr>\n",
       "  </tbody>\n",
       "</table>\n",
       "</div>"
      ],
      "text/plain": [
       "               Age        Educ        MMSE         CDR         eTIV  \\\n",
       "count  1233.000000  464.000000  829.000000  831.000000  1233.000000   \n",
       "mean     58.861314    3.183190   27.160434    0.287004  1484.379562   \n",
       "std      24.572535    1.310721    3.707881    0.379123   164.547664   \n",
       "min      18.000000    1.000000    4.000000    0.000000  1106.000000   \n",
       "25%      29.000000    2.000000   26.000000    0.000000  1365.000000   \n",
       "50%      69.000000    3.000000   29.000000    0.000000  1475.000000   \n",
       "75%      78.000000    4.000000   30.000000    0.500000  1583.000000   \n",
       "max      98.000000    5.000000   30.000000    2.000000  2004.000000   \n",
       "\n",
       "              nWBV          ASF  \n",
       "count  1233.000000  1233.000000  \n",
       "mean      0.773534     1.197479  \n",
       "std       0.061126     0.131880  \n",
       "min       0.644000     0.876000  \n",
       "25%       0.723000     1.110000  \n",
       "50%       0.770000     1.190000  \n",
       "75%       0.832000     1.289000  \n",
       "max       0.893000     1.587000  "
      ]
     },
     "execution_count": 7,
     "metadata": {},
     "output_type": "execute_result"
    }
   ],
   "source": [
    "find_difference_when_merge = pd.merge(cross_sectional, longitudinal, indicator=True, how='outer')\n",
    "differences = find_difference_when_merge[find_difference_when_merge['_merge'] != 'both']\n",
    "differences_longitudinal = differences[cross_sectional.columns]\n",
    "final_data = pd.concat([cross_sectional, differences_longitudinal], ignore_index=True)\n",
    "\n",
    "\n",
    "final_data.describe()"
   ]
  },
  {
   "cell_type": "markdown",
   "id": "8d17ad08",
   "metadata": {
    "papermill": {
     "duration": 0.018868,
     "end_time": "2024-05-20T18:06:15.361048",
     "exception": false,
     "start_time": "2024-05-20T18:06:15.342180",
     "status": "completed"
    },
    "tags": []
   },
   "source": [
    "**Check for NA values in the final data**"
   ]
  },
  {
   "cell_type": "code",
   "execution_count": 8,
   "id": "614f8f82",
   "metadata": {
    "execution": {
     "iopub.execute_input": "2024-05-20T18:06:15.402543Z",
     "iopub.status.busy": "2024-05-20T18:06:15.401892Z",
     "iopub.status.idle": "2024-05-20T18:06:15.411149Z",
     "shell.execute_reply": "2024-05-20T18:06:15.409923Z"
    },
    "papermill": {
     "duration": 0.033165,
     "end_time": "2024-05-20T18:06:15.413435",
     "exception": false,
     "start_time": "2024-05-20T18:06:15.380270",
     "status": "completed"
    },
    "tags": []
   },
   "outputs": [
    {
     "data": {
      "text/plain": [
       "Gender      0\n",
       "Age         0\n",
       "Educ      769\n",
       "MMSE      404\n",
       "CDR       402\n",
       "eTIV        0\n",
       "nWBV        0\n",
       "ASF         0\n",
       "dtype: int64"
      ]
     },
     "execution_count": 8,
     "metadata": {},
     "output_type": "execute_result"
    }
   ],
   "source": [
    "final_data.isna().sum()"
   ]
  },
  {
   "cell_type": "markdown",
   "id": "0970584e",
   "metadata": {
    "papermill": {
     "duration": 0.019414,
     "end_time": "2024-05-20T18:06:15.452662",
     "exception": false,
     "start_time": "2024-05-20T18:06:15.433248",
     "status": "completed"
    },
    "tags": []
   },
   "source": [
    "**Remove the NA values**"
   ]
  },
  {
   "cell_type": "code",
   "execution_count": 9,
   "id": "6aa6ed12",
   "metadata": {
    "execution": {
     "iopub.execute_input": "2024-05-20T18:06:15.493522Z",
     "iopub.status.busy": "2024-05-20T18:06:15.492857Z",
     "iopub.status.idle": "2024-05-20T18:06:15.504097Z",
     "shell.execute_reply": "2024-05-20T18:06:15.502854Z"
    },
    "papermill": {
     "duration": 0.03447,
     "end_time": "2024-05-20T18:06:15.506496",
     "exception": false,
     "start_time": "2024-05-20T18:06:15.472026",
     "status": "completed"
    },
    "tags": []
   },
   "outputs": [
    {
     "data": {
      "text/plain": [
       "Gender    0\n",
       "Age       0\n",
       "Educ      0\n",
       "MMSE      0\n",
       "CDR       0\n",
       "eTIV      0\n",
       "nWBV      0\n",
       "ASF       0\n",
       "dtype: int64"
      ]
     },
     "execution_count": 9,
     "metadata": {},
     "output_type": "execute_result"
    }
   ],
   "source": [
    "final_data = final_data.dropna(subset=['Educ', 'MMSE', 'CDR'])\n",
    "final_data.isna().sum()"
   ]
  },
  {
   "cell_type": "markdown",
   "id": "6d3d22d3",
   "metadata": {
    "papermill": {
     "duration": 0.020407,
     "end_time": "2024-05-20T18:06:15.546850",
     "exception": false,
     "start_time": "2024-05-20T18:06:15.526443",
     "status": "completed"
    },
    "tags": []
   },
   "source": [
    "Now that I got rid of the NA values. I can proceed with data analysis and potentially removing outliers if present."
   ]
  },
  {
   "cell_type": "markdown",
   "id": "8dc6af4f",
   "metadata": {
    "papermill": {
     "duration": 0.01922,
     "end_time": "2024-05-20T18:06:15.585694",
     "exception": false,
     "start_time": "2024-05-20T18:06:15.566474",
     "status": "completed"
    },
    "tags": []
   },
   "source": [
    "# **Index the data**"
   ]
  },
  {
   "cell_type": "code",
   "execution_count": 10,
   "id": "d73d34fe",
   "metadata": {
    "execution": {
     "iopub.execute_input": "2024-05-20T18:06:15.627126Z",
     "iopub.status.busy": "2024-05-20T18:06:15.626740Z",
     "iopub.status.idle": "2024-05-20T18:06:15.649373Z",
     "shell.execute_reply": "2024-05-20T18:06:15.648492Z"
    },
    "papermill": {
     "duration": 0.046792,
     "end_time": "2024-05-20T18:06:15.651972",
     "exception": false,
     "start_time": "2024-05-20T18:06:15.605180",
     "status": "completed"
    },
    "tags": []
   },
   "outputs": [
    {
     "data": {
      "text/html": [
       "<div>\n",
       "<style scoped>\n",
       "    .dataframe tbody tr th:only-of-type {\n",
       "        vertical-align: middle;\n",
       "    }\n",
       "\n",
       "    .dataframe tbody tr th {\n",
       "        vertical-align: top;\n",
       "    }\n",
       "\n",
       "    .dataframe thead th {\n",
       "        text-align: right;\n",
       "    }\n",
       "</style>\n",
       "<table border=\"1\" class=\"dataframe\">\n",
       "  <thead>\n",
       "    <tr style=\"text-align: right;\">\n",
       "      <th></th>\n",
       "      <th>Gender</th>\n",
       "      <th>Age</th>\n",
       "      <th>Educ</th>\n",
       "      <th>MMSE</th>\n",
       "      <th>CDR</th>\n",
       "      <th>eTIV</th>\n",
       "      <th>nWBV</th>\n",
       "      <th>ASF</th>\n",
       "      <th>ID</th>\n",
       "    </tr>\n",
       "  </thead>\n",
       "  <tbody>\n",
       "    <tr>\n",
       "      <th>0</th>\n",
       "      <td>F</td>\n",
       "      <td>74</td>\n",
       "      <td>2.0</td>\n",
       "      <td>29.0</td>\n",
       "      <td>0.0</td>\n",
       "      <td>1344</td>\n",
       "      <td>0.743</td>\n",
       "      <td>1.306</td>\n",
       "      <td>0</td>\n",
       "    </tr>\n",
       "    <tr>\n",
       "      <th>1</th>\n",
       "      <td>F</td>\n",
       "      <td>55</td>\n",
       "      <td>4.0</td>\n",
       "      <td>29.0</td>\n",
       "      <td>0.0</td>\n",
       "      <td>1147</td>\n",
       "      <td>0.810</td>\n",
       "      <td>1.531</td>\n",
       "      <td>1</td>\n",
       "    </tr>\n",
       "    <tr>\n",
       "      <th>2</th>\n",
       "      <td>F</td>\n",
       "      <td>73</td>\n",
       "      <td>4.0</td>\n",
       "      <td>27.0</td>\n",
       "      <td>0.5</td>\n",
       "      <td>1454</td>\n",
       "      <td>0.708</td>\n",
       "      <td>1.207</td>\n",
       "      <td>2</td>\n",
       "    </tr>\n",
       "    <tr>\n",
       "      <th>8</th>\n",
       "      <td>M</td>\n",
       "      <td>74</td>\n",
       "      <td>5.0</td>\n",
       "      <td>30.0</td>\n",
       "      <td>0.0</td>\n",
       "      <td>1636</td>\n",
       "      <td>0.689</td>\n",
       "      <td>1.073</td>\n",
       "      <td>8</td>\n",
       "    </tr>\n",
       "    <tr>\n",
       "      <th>9</th>\n",
       "      <td>F</td>\n",
       "      <td>52</td>\n",
       "      <td>3.0</td>\n",
       "      <td>30.0</td>\n",
       "      <td>0.0</td>\n",
       "      <td>1321</td>\n",
       "      <td>0.827</td>\n",
       "      <td>1.329</td>\n",
       "      <td>9</td>\n",
       "    </tr>\n",
       "    <tr>\n",
       "      <th>...</th>\n",
       "      <td>...</td>\n",
       "      <td>...</td>\n",
       "      <td>...</td>\n",
       "      <td>...</td>\n",
       "      <td>...</td>\n",
       "      <td>...</td>\n",
       "      <td>...</td>\n",
       "      <td>...</td>\n",
       "      <td>...</td>\n",
       "    </tr>\n",
       "    <tr>\n",
       "      <th>1219</th>\n",
       "      <td>M</td>\n",
       "      <td>88</td>\n",
       "      <td>1.0</td>\n",
       "      <td>26.0</td>\n",
       "      <td>1.0</td>\n",
       "      <td>1419</td>\n",
       "      <td>0.674</td>\n",
       "      <td>1.236</td>\n",
       "      <td>1219</td>\n",
       "    </tr>\n",
       "    <tr>\n",
       "      <th>1223</th>\n",
       "      <td>M</td>\n",
       "      <td>89</td>\n",
       "      <td>4.0</td>\n",
       "      <td>28.0</td>\n",
       "      <td>0.0</td>\n",
       "      <td>1631</td>\n",
       "      <td>0.682</td>\n",
       "      <td>1.076</td>\n",
       "      <td>1223</td>\n",
       "    </tr>\n",
       "    <tr>\n",
       "      <th>1226</th>\n",
       "      <td>M</td>\n",
       "      <td>90</td>\n",
       "      <td>2.0</td>\n",
       "      <td>21.0</td>\n",
       "      <td>0.5</td>\n",
       "      <td>1307</td>\n",
       "      <td>0.689</td>\n",
       "      <td>1.342</td>\n",
       "      <td>1226</td>\n",
       "    </tr>\n",
       "    <tr>\n",
       "      <th>1227</th>\n",
       "      <td>M</td>\n",
       "      <td>90</td>\n",
       "      <td>1.0</td>\n",
       "      <td>23.0</td>\n",
       "      <td>0.5</td>\n",
       "      <td>1668</td>\n",
       "      <td>0.644</td>\n",
       "      <td>1.052</td>\n",
       "      <td>1227</td>\n",
       "    </tr>\n",
       "    <tr>\n",
       "      <th>1229</th>\n",
       "      <td>M</td>\n",
       "      <td>90</td>\n",
       "      <td>2.0</td>\n",
       "      <td>25.0</td>\n",
       "      <td>0.0</td>\n",
       "      <td>1301</td>\n",
       "      <td>0.645</td>\n",
       "      <td>1.349</td>\n",
       "      <td>1229</td>\n",
       "    </tr>\n",
       "  </tbody>\n",
       "</table>\n",
       "<p>464 rows × 9 columns</p>\n",
       "</div>"
      ],
      "text/plain": [
       "     Gender  Age  Educ  MMSE  CDR  eTIV   nWBV    ASF    ID\n",
       "0         F   74   2.0  29.0  0.0  1344  0.743  1.306     0\n",
       "1         F   55   4.0  29.0  0.0  1147  0.810  1.531     1\n",
       "2         F   73   4.0  27.0  0.5  1454  0.708  1.207     2\n",
       "8         M   74   5.0  30.0  0.0  1636  0.689  1.073     8\n",
       "9         F   52   3.0  30.0  0.0  1321  0.827  1.329     9\n",
       "...     ...  ...   ...   ...  ...   ...    ...    ...   ...\n",
       "1219      M   88   1.0  26.0  1.0  1419  0.674  1.236  1219\n",
       "1223      M   89   4.0  28.0  0.0  1631  0.682  1.076  1223\n",
       "1226      M   90   2.0  21.0  0.5  1307  0.689  1.342  1226\n",
       "1227      M   90   1.0  23.0  0.5  1668  0.644  1.052  1227\n",
       "1229      M   90   2.0  25.0  0.0  1301  0.645  1.349  1229\n",
       "\n",
       "[464 rows x 9 columns]"
      ]
     },
     "execution_count": 10,
     "metadata": {},
     "output_type": "execute_result"
    }
   ],
   "source": [
    "final_data['ID'] = final_data.index\n",
    "final_data"
   ]
  },
  {
   "cell_type": "markdown",
   "id": "f648ac6a",
   "metadata": {
    "papermill": {
     "duration": 0.019834,
     "end_time": "2024-05-20T18:06:15.755856",
     "exception": false,
     "start_time": "2024-05-20T18:06:15.736022",
     "status": "completed"
    },
    "tags": []
   },
   "source": [
    "# **Data Analysis**"
   ]
  },
  {
   "cell_type": "markdown",
   "id": "5c7c43db",
   "metadata": {
    "papermill": {
     "duration": 0.0196,
     "end_time": "2024-05-20T18:06:15.795768",
     "exception": false,
     "start_time": "2024-05-20T18:06:15.776168",
     "status": "completed"
    },
    "tags": []
   },
   "source": [
    "Box plot"
   ]
  },
  {
   "cell_type": "code",
   "execution_count": 11,
   "id": "a51af309",
   "metadata": {
    "execution": {
     "iopub.execute_input": "2024-05-20T18:06:15.838307Z",
     "iopub.status.busy": "2024-05-20T18:06:15.837124Z",
     "iopub.status.idle": "2024-05-20T18:06:17.120848Z",
     "shell.execute_reply": "2024-05-20T18:06:17.119498Z"
    },
    "papermill": {
     "duration": 1.308172,
     "end_time": "2024-05-20T18:06:17.123972",
     "exception": false,
     "start_time": "2024-05-20T18:06:15.815800",
     "status": "completed"
    },
    "tags": []
   },
   "outputs": [
    {
     "data": {
      "text/plain": [
       "Age        Axes(0.125,0.712609;0.227941x0.167391)\n",
       "Educ    Axes(0.398529,0.712609;0.227941x0.167391)\n",
       "MMSE    Axes(0.672059,0.712609;0.227941x0.167391)\n",
       "CDR        Axes(0.125,0.511739;0.227941x0.167391)\n",
       "eTIV    Axes(0.398529,0.511739;0.227941x0.167391)\n",
       "nWBV    Axes(0.672059,0.511739;0.227941x0.167391)\n",
       "ASF         Axes(0.125,0.31087;0.227941x0.167391)\n",
       "ID       Axes(0.398529,0.31087;0.227941x0.167391)\n",
       "dtype: object"
      ]
     },
     "execution_count": 11,
     "metadata": {},
     "output_type": "execute_result"
    },
    {
     "data": {
      "image/png": "[encoded data removed]",
      "text/plain": [
       "<Figure size 2000x1000 with 12 Axes>"
      ]
     },
     "metadata": {},
     "output_type": "display_data"
    }
   ],
   "source": [
    "final_data.plot(kind='box', subplots=True, layout=(4,3), sharex=False, figsize=(20, 10))"
   ]
  },
  {
   "cell_type": "markdown",
   "id": "7a0b67ab",
   "metadata": {
    "papermill": {
     "duration": 0.022026,
     "end_time": "2024-05-20T18:06:17.168226",
     "exception": false,
     "start_time": "2024-05-20T18:06:17.146200",
     "status": "completed"
    },
    "tags": []
   },
   "source": [
    "From the box plot itself we can see that we do have a presence of outliers in fer columns, but let's visualize the data with some more graphs before moving to deal with the outliers."
   ]
  },
  {
   "cell_type": "markdown",
   "id": "03e3a337",
   "metadata": {
    "papermill": {
     "duration": 0.020489,
     "end_time": "2024-05-20T18:06:17.209588",
     "exception": false,
     "start_time": "2024-05-20T18:06:17.189099",
     "status": "completed"
    },
    "tags": []
   },
   "source": [
    "To check the distribution, I will use Histogram."
   ]
  },
  {
   "cell_type": "code",
   "execution_count": 12,
   "id": "ab3a4d97",
   "metadata": {
    "execution": {
     "iopub.execute_input": "2024-05-20T18:06:17.253236Z",
     "iopub.status.busy": "2024-05-20T18:06:17.252830Z",
     "iopub.status.idle": "2024-05-20T18:06:20.289929Z",
     "shell.execute_reply": "2024-05-20T18:06:20.288829Z"
    },
    "papermill": {
     "duration": 3.062393,
     "end_time": "2024-05-20T18:06:20.292810",
     "exception": false,
     "start_time": "2024-05-20T18:06:17.230417",
     "status": "completed"
    },
    "tags": []
   },
   "outputs": [
    {
     "data": {
      "text/plain": [
       "array([[<Axes: title={'center': 'Age'}>,\n",
       "        <Axes: title={'center': 'Educ'}>,\n",
       "        <Axes: title={'center': 'MMSE'}>],\n",
       "       [<Axes: title={'center': 'CDR'}>,\n",
       "        <Axes: title={'center': 'eTIV'}>,\n",
       "        <Axes: title={'center': 'nWBV'}>],\n",
       "       [<Axes: title={'center': 'ASF'}>, <Axes: title={'center': 'ID'}>,\n",
       "        <Axes: >]], dtype=object)"
      ]
     },
     "execution_count": 12,
     "metadata": {},
     "output_type": "execute_result"
    },
    {
     "data": {
      "image/png": "[encoded data removed]",
      "text/plain": [
       "<Figure size 2000x1000 with 9 Axes>"
      ]
     },
     "metadata": {},
     "output_type": "display_data"
    }
   ],
   "source": [
    "final_data.hist(bins=60, figsize=(20, 10))"
   ]
  },
  {
   "cell_type": "markdown",
   "id": "91daa6ec",
   "metadata": {
    "papermill": {
     "duration": 0.022315,
     "end_time": "2024-05-20T18:06:20.337650",
     "exception": false,
     "start_time": "2024-05-20T18:06:20.315335",
     "status": "completed"
    },
    "tags": []
   },
   "source": [
    "The skewness for some of the histograms (on the x axis) indicates that there's presence of at least one (or more) rows from our data that have that values. From this we can try and understand that this might represent a potential outlier indicator."
   ]
  },
  {
   "cell_type": "markdown",
   "id": "e7a39fdb",
   "metadata": {
    "papermill": {
     "duration": 0.022278,
     "end_time": "2024-05-20T18:06:20.382639",
     "exception": false,
     "start_time": "2024-05-20T18:06:20.360361",
     "status": "completed"
    },
    "tags": []
   },
   "source": [
    "From both the Histogram and the Box plot we can see that we have potential outliers in the columns (Age, CDR, eTIV, MMSE, ASF). Therefore, I will try to refine the data by removing the potential outliers. I will start with \"Age\" column. As we can see for the age < 50 we start to have a lot less samples compared to > 50 (It's maybe even better to consider it as < 60, but let's see where we get with this first, and then I will refine further if needed). Let's determine which samples have age < 50. And I will further use scatter plots to really make it easier and spot the stand outs from our data"
   ]
  },
  {
   "cell_type": "code",
   "execution_count": 13,
   "id": "31223511",
   "metadata": {
    "execution": {
     "iopub.execute_input": "2024-05-20T18:06:20.430832Z",
     "iopub.status.busy": "2024-05-20T18:06:20.430125Z",
     "iopub.status.idle": "2024-05-20T18:06:20.463262Z",
     "shell.execute_reply": "2024-05-20T18:06:20.461922Z"
    },
    "papermill": {
     "duration": 0.05981,
     "end_time": "2024-05-20T18:06:20.465878",
     "exception": false,
     "start_time": "2024-05-20T18:06:20.406068",
     "status": "completed"
    },
    "tags": []
   },
   "outputs": [
    {
     "data": {
      "text/html": [
       "<div>\n",
       "<style scoped>\n",
       "    .dataframe tbody tr th:only-of-type {\n",
       "        vertical-align: middle;\n",
       "    }\n",
       "\n",
       "    .dataframe tbody tr th {\n",
       "        vertical-align: top;\n",
       "    }\n",
       "\n",
       "    .dataframe thead th {\n",
       "        text-align: right;\n",
       "    }\n",
       "</style>\n",
       "<table border=\"1\" class=\"dataframe\">\n",
       "  <thead>\n",
       "    <tr style=\"text-align: right;\">\n",
       "      <th></th>\n",
       "      <th>Gender</th>\n",
       "      <th>Age</th>\n",
       "      <th>Educ</th>\n",
       "      <th>MMSE</th>\n",
       "      <th>CDR</th>\n",
       "      <th>eTIV</th>\n",
       "      <th>nWBV</th>\n",
       "      <th>ASF</th>\n",
       "      <th>ID</th>\n",
       "    </tr>\n",
       "  </thead>\n",
       "  <tbody>\n",
       "    <tr>\n",
       "      <th>16</th>\n",
       "      <td>M</td>\n",
       "      <td>39</td>\n",
       "      <td>3.0</td>\n",
       "      <td>28.0</td>\n",
       "      <td>0.0</td>\n",
       "      <td>1636</td>\n",
       "      <td>0.813</td>\n",
       "      <td>1.073</td>\n",
       "      <td>16</td>\n",
       "    </tr>\n",
       "    <tr>\n",
       "      <th>18</th>\n",
       "      <td>F</td>\n",
       "      <td>48</td>\n",
       "      <td>5.0</td>\n",
       "      <td>29.0</td>\n",
       "      <td>0.0</td>\n",
       "      <td>1326</td>\n",
       "      <td>0.785</td>\n",
       "      <td>1.323</td>\n",
       "      <td>18</td>\n",
       "    </tr>\n",
       "    <tr>\n",
       "      <th>40</th>\n",
       "      <td>F</td>\n",
       "      <td>47</td>\n",
       "      <td>4.0</td>\n",
       "      <td>30.0</td>\n",
       "      <td>0.0</td>\n",
       "      <td>1346</td>\n",
       "      <td>0.829</td>\n",
       "      <td>1.304</td>\n",
       "      <td>40</td>\n",
       "    </tr>\n",
       "    <tr>\n",
       "      <th>53</th>\n",
       "      <td>F</td>\n",
       "      <td>46</td>\n",
       "      <td>5.0</td>\n",
       "      <td>30.0</td>\n",
       "      <td>0.0</td>\n",
       "      <td>1585</td>\n",
       "      <td>0.817</td>\n",
       "      <td>1.107</td>\n",
       "      <td>53</td>\n",
       "    </tr>\n",
       "    <tr>\n",
       "      <th>64</th>\n",
       "      <td>M</td>\n",
       "      <td>33</td>\n",
       "      <td>4.0</td>\n",
       "      <td>30.0</td>\n",
       "      <td>0.0</td>\n",
       "      <td>1709</td>\n",
       "      <td>0.784</td>\n",
       "      <td>1.027</td>\n",
       "      <td>64</td>\n",
       "    </tr>\n",
       "    <tr>\n",
       "      <th>66</th>\n",
       "      <td>F</td>\n",
       "      <td>49</td>\n",
       "      <td>5.0</td>\n",
       "      <td>30.0</td>\n",
       "      <td>0.0</td>\n",
       "      <td>1459</td>\n",
       "      <td>0.808</td>\n",
       "      <td>1.203</td>\n",
       "      <td>66</td>\n",
       "    </tr>\n",
       "    <tr>\n",
       "      <th>69</th>\n",
       "      <td>M</td>\n",
       "      <td>43</td>\n",
       "      <td>4.0</td>\n",
       "      <td>30.0</td>\n",
       "      <td>0.0</td>\n",
       "      <td>1547</td>\n",
       "      <td>0.847</td>\n",
       "      <td>1.134</td>\n",
       "      <td>69</td>\n",
       "    </tr>\n",
       "    <tr>\n",
       "      <th>81</th>\n",
       "      <td>F</td>\n",
       "      <td>47</td>\n",
       "      <td>4.0</td>\n",
       "      <td>30.0</td>\n",
       "      <td>0.0</td>\n",
       "      <td>1311</td>\n",
       "      <td>0.835</td>\n",
       "      <td>1.339</td>\n",
       "      <td>81</td>\n",
       "    </tr>\n",
       "    <tr>\n",
       "      <th>89</th>\n",
       "      <td>F</td>\n",
       "      <td>47</td>\n",
       "      <td>5.0</td>\n",
       "      <td>29.0</td>\n",
       "      <td>0.0</td>\n",
       "      <td>1357</td>\n",
       "      <td>0.809</td>\n",
       "      <td>1.294</td>\n",
       "      <td>89</td>\n",
       "    </tr>\n",
       "    <tr>\n",
       "      <th>166</th>\n",
       "      <td>F</td>\n",
       "      <td>49</td>\n",
       "      <td>4.0</td>\n",
       "      <td>30.0</td>\n",
       "      <td>0.0</td>\n",
       "      <td>1316</td>\n",
       "      <td>0.820</td>\n",
       "      <td>1.334</td>\n",
       "      <td>166</td>\n",
       "    </tr>\n",
       "    <tr>\n",
       "      <th>172</th>\n",
       "      <td>M</td>\n",
       "      <td>48</td>\n",
       "      <td>4.0</td>\n",
       "      <td>30.0</td>\n",
       "      <td>0.0</td>\n",
       "      <td>1464</td>\n",
       "      <td>0.790</td>\n",
       "      <td>1.199</td>\n",
       "      <td>172</td>\n",
       "    </tr>\n",
       "    <tr>\n",
       "      <th>186</th>\n",
       "      <td>M</td>\n",
       "      <td>48</td>\n",
       "      <td>4.0</td>\n",
       "      <td>29.0</td>\n",
       "      <td>0.0</td>\n",
       "      <td>1430</td>\n",
       "      <td>0.797</td>\n",
       "      <td>1.227</td>\n",
       "      <td>186</td>\n",
       "    </tr>\n",
       "    <tr>\n",
       "      <th>235</th>\n",
       "      <td>M</td>\n",
       "      <td>46</td>\n",
       "      <td>2.0</td>\n",
       "      <td>30.0</td>\n",
       "      <td>0.0</td>\n",
       "      <td>1604</td>\n",
       "      <td>0.784</td>\n",
       "      <td>1.094</td>\n",
       "      <td>235</td>\n",
       "    </tr>\n",
       "    <tr>\n",
       "      <th>330</th>\n",
       "      <td>F</td>\n",
       "      <td>45</td>\n",
       "      <td>5.0</td>\n",
       "      <td>29.0</td>\n",
       "      <td>0.0</td>\n",
       "      <td>1549</td>\n",
       "      <td>0.813</td>\n",
       "      <td>1.133</td>\n",
       "      <td>330</td>\n",
       "    </tr>\n",
       "    <tr>\n",
       "      <th>331</th>\n",
       "      <td>F</td>\n",
       "      <td>46</td>\n",
       "      <td>2.0</td>\n",
       "      <td>28.0</td>\n",
       "      <td>0.0</td>\n",
       "      <td>1161</td>\n",
       "      <td>0.841</td>\n",
       "      <td>1.511</td>\n",
       "      <td>331</td>\n",
       "    </tr>\n",
       "    <tr>\n",
       "      <th>537</th>\n",
       "      <td>F</td>\n",
       "      <td>45</td>\n",
       "      <td>5.0</td>\n",
       "      <td>29.0</td>\n",
       "      <td>0.0</td>\n",
       "      <td>1549</td>\n",
       "      <td>0.813</td>\n",
       "      <td>1.133</td>\n",
       "      <td>537</td>\n",
       "    </tr>\n",
       "    <tr>\n",
       "      <th>540</th>\n",
       "      <td>F</td>\n",
       "      <td>46</td>\n",
       "      <td>2.0</td>\n",
       "      <td>28.0</td>\n",
       "      <td>0.0</td>\n",
       "      <td>1161</td>\n",
       "      <td>0.841</td>\n",
       "      <td>1.511</td>\n",
       "      <td>540</td>\n",
       "    </tr>\n",
       "    <tr>\n",
       "      <th>541</th>\n",
       "      <td>F</td>\n",
       "      <td>46</td>\n",
       "      <td>5.0</td>\n",
       "      <td>30.0</td>\n",
       "      <td>0.0</td>\n",
       "      <td>1585</td>\n",
       "      <td>0.817</td>\n",
       "      <td>1.107</td>\n",
       "      <td>541</td>\n",
       "    </tr>\n",
       "    <tr>\n",
       "      <th>542</th>\n",
       "      <td>F</td>\n",
       "      <td>47</td>\n",
       "      <td>5.0</td>\n",
       "      <td>29.0</td>\n",
       "      <td>0.0</td>\n",
       "      <td>1357</td>\n",
       "      <td>0.809</td>\n",
       "      <td>1.294</td>\n",
       "      <td>542</td>\n",
       "    </tr>\n",
       "    <tr>\n",
       "      <th>543</th>\n",
       "      <td>F</td>\n",
       "      <td>47</td>\n",
       "      <td>4.0</td>\n",
       "      <td>30.0</td>\n",
       "      <td>0.0</td>\n",
       "      <td>1311</td>\n",
       "      <td>0.835</td>\n",
       "      <td>1.339</td>\n",
       "      <td>543</td>\n",
       "    </tr>\n",
       "    <tr>\n",
       "      <th>544</th>\n",
       "      <td>F</td>\n",
       "      <td>47</td>\n",
       "      <td>4.0</td>\n",
       "      <td>30.0</td>\n",
       "      <td>0.0</td>\n",
       "      <td>1346</td>\n",
       "      <td>0.829</td>\n",
       "      <td>1.304</td>\n",
       "      <td>544</td>\n",
       "    </tr>\n",
       "    <tr>\n",
       "      <th>545</th>\n",
       "      <td>F</td>\n",
       "      <td>48</td>\n",
       "      <td>5.0</td>\n",
       "      <td>29.0</td>\n",
       "      <td>0.0</td>\n",
       "      <td>1326</td>\n",
       "      <td>0.785</td>\n",
       "      <td>1.323</td>\n",
       "      <td>545</td>\n",
       "    </tr>\n",
       "    <tr>\n",
       "      <th>548</th>\n",
       "      <td>F</td>\n",
       "      <td>49</td>\n",
       "      <td>4.0</td>\n",
       "      <td>30.0</td>\n",
       "      <td>0.0</td>\n",
       "      <td>1316</td>\n",
       "      <td>0.820</td>\n",
       "      <td>1.334</td>\n",
       "      <td>548</td>\n",
       "    </tr>\n",
       "    <tr>\n",
       "      <th>549</th>\n",
       "      <td>F</td>\n",
       "      <td>49</td>\n",
       "      <td>5.0</td>\n",
       "      <td>30.0</td>\n",
       "      <td>0.0</td>\n",
       "      <td>1459</td>\n",
       "      <td>0.808</td>\n",
       "      <td>1.203</td>\n",
       "      <td>549</td>\n",
       "    </tr>\n",
       "    <tr>\n",
       "      <th>977</th>\n",
       "      <td>M</td>\n",
       "      <td>33</td>\n",
       "      <td>4.0</td>\n",
       "      <td>30.0</td>\n",
       "      <td>0.0</td>\n",
       "      <td>1709</td>\n",
       "      <td>0.784</td>\n",
       "      <td>1.027</td>\n",
       "      <td>977</td>\n",
       "    </tr>\n",
       "    <tr>\n",
       "      <th>984</th>\n",
       "      <td>M</td>\n",
       "      <td>39</td>\n",
       "      <td>3.0</td>\n",
       "      <td>28.0</td>\n",
       "      <td>0.0</td>\n",
       "      <td>1636</td>\n",
       "      <td>0.813</td>\n",
       "      <td>1.073</td>\n",
       "      <td>984</td>\n",
       "    </tr>\n",
       "    <tr>\n",
       "      <th>985</th>\n",
       "      <td>M</td>\n",
       "      <td>43</td>\n",
       "      <td>4.0</td>\n",
       "      <td>30.0</td>\n",
       "      <td>0.0</td>\n",
       "      <td>1547</td>\n",
       "      <td>0.847</td>\n",
       "      <td>1.134</td>\n",
       "      <td>985</td>\n",
       "    </tr>\n",
       "    <tr>\n",
       "      <th>988</th>\n",
       "      <td>M</td>\n",
       "      <td>46</td>\n",
       "      <td>2.0</td>\n",
       "      <td>30.0</td>\n",
       "      <td>0.0</td>\n",
       "      <td>1604</td>\n",
       "      <td>0.784</td>\n",
       "      <td>1.094</td>\n",
       "      <td>988</td>\n",
       "    </tr>\n",
       "    <tr>\n",
       "      <th>990</th>\n",
       "      <td>M</td>\n",
       "      <td>48</td>\n",
       "      <td>4.0</td>\n",
       "      <td>29.0</td>\n",
       "      <td>0.0</td>\n",
       "      <td>1430</td>\n",
       "      <td>0.797</td>\n",
       "      <td>1.227</td>\n",
       "      <td>990</td>\n",
       "    </tr>\n",
       "    <tr>\n",
       "      <th>991</th>\n",
       "      <td>M</td>\n",
       "      <td>48</td>\n",
       "      <td>4.0</td>\n",
       "      <td>30.0</td>\n",
       "      <td>0.0</td>\n",
       "      <td>1464</td>\n",
       "      <td>0.790</td>\n",
       "      <td>1.199</td>\n",
       "      <td>991</td>\n",
       "    </tr>\n",
       "  </tbody>\n",
       "</table>\n",
       "</div>"
      ],
      "text/plain": [
       "    Gender  Age  Educ  MMSE  CDR  eTIV   nWBV    ASF   ID\n",
       "16       M   39   3.0  28.0  0.0  1636  0.813  1.073   16\n",
       "18       F   48   5.0  29.0  0.0  1326  0.785  1.323   18\n",
       "40       F   47   4.0  30.0  0.0  1346  0.829  1.304   40\n",
       "53       F   46   5.0  30.0  0.0  1585  0.817  1.107   53\n",
       "64       M   33   4.0  30.0  0.0  1709  0.784  1.027   64\n",
       "66       F   49   5.0  30.0  0.0  1459  0.808  1.203   66\n",
       "69       M   43   4.0  30.0  0.0  1547  0.847  1.134   69\n",
       "81       F   47   4.0  30.0  0.0  1311  0.835  1.339   81\n",
       "89       F   47   5.0  29.0  0.0  1357  0.809  1.294   89\n",
       "166      F   49   4.0  30.0  0.0  1316  0.820  1.334  166\n",
       "172      M   48   4.0  30.0  0.0  1464  0.790  1.199  172\n",
       "186      M   48   4.0  29.0  0.0  1430  0.797  1.227  186\n",
       "235      M   46   2.0  30.0  0.0  1604  0.784  1.094  235\n",
       "330      F   45   5.0  29.0  0.0  1549  0.813  1.133  330\n",
       "331      F   46   2.0  28.0  0.0  1161  0.841  1.511  331\n",
       "537      F   45   5.0  29.0  0.0  1549  0.813  1.133  537\n",
       "540      F   46   2.0  28.0  0.0  1161  0.841  1.511  540\n",
       "541      F   46   5.0  30.0  0.0  1585  0.817  1.107  541\n",
       "542      F   47   5.0  29.0  0.0  1357  0.809  1.294  542\n",
       "543      F   47   4.0  30.0  0.0  1311  0.835  1.339  543\n",
       "544      F   47   4.0  30.0  0.0  1346  0.829  1.304  544\n",
       "545      F   48   5.0  29.0  0.0  1326  0.785  1.323  545\n",
       "548      F   49   4.0  30.0  0.0  1316  0.820  1.334  548\n",
       "549      F   49   5.0  30.0  0.0  1459  0.808  1.203  549\n",
       "977      M   33   4.0  30.0  0.0  1709  0.784  1.027  977\n",
       "984      M   39   3.0  28.0  0.0  1636  0.813  1.073  984\n",
       "985      M   43   4.0  30.0  0.0  1547  0.847  1.134  985\n",
       "988      M   46   2.0  30.0  0.0  1604  0.784  1.094  988\n",
       "990      M   48   4.0  29.0  0.0  1430  0.797  1.227  990\n",
       "991      M   48   4.0  30.0  0.0  1464  0.790  1.199  991"
      ]
     },
     "execution_count": 13,
     "metadata": {},
     "output_type": "execute_result"
    }
   ],
   "source": [
    "final_data[final_data['Age']<50]"
   ]
  },
  {
   "cell_type": "code",
   "execution_count": 14,
   "id": "d9a5dd4f",
   "metadata": {
    "execution": {
     "iopub.execute_input": "2024-05-20T18:06:20.515196Z",
     "iopub.status.busy": "2024-05-20T18:06:20.514505Z",
     "iopub.status.idle": "2024-05-20T18:06:20.824914Z",
     "shell.execute_reply": "2024-05-20T18:06:20.823641Z"
    },
    "papermill": {
     "duration": 0.33818,
     "end_time": "2024-05-20T18:06:20.827654",
     "exception": false,
     "start_time": "2024-05-20T18:06:20.489474",
     "status": "completed"
    },
    "tags": []
   },
   "outputs": [
    {
     "data": {
      "text/plain": [
       "<Axes: xlabel='ID', ylabel='Age'>"
      ]
     },
     "execution_count": 14,
     "metadata": {},
     "output_type": "execute_result"
    },
    {
     "data": {
      "image/png": "[encoded data removed]",
      "text/plain": [
       "<Figure size 640x480 with 1 Axes>"
      ]
     },
     "metadata": {},
     "output_type": "display_data"
    }
   ],
   "source": [
    "final_data[['ID','Age']].plot(kind='scatter', x='ID', y='Age')"
   ]
  },
  {
   "cell_type": "markdown",
   "id": "de913129",
   "metadata": {
    "papermill": {
     "duration": 0.023591,
     "end_time": "2024-05-20T18:06:20.875918",
     "exception": false,
     "start_time": "2024-05-20T18:06:20.852327",
     "status": "completed"
    },
    "tags": []
   },
   "source": [
    "I will remove all the data which is < 50, due to the obvious potential for outliers for samples that have age < 50 (Even though the scatter is not really clear, but let's keep it for now and I will adjust later)."
   ]
  },
  {
   "cell_type": "code",
   "execution_count": 15,
   "id": "2707fab9",
   "metadata": {
    "execution": {
     "iopub.execute_input": "2024-05-20T18:06:20.926299Z",
     "iopub.status.busy": "2024-05-20T18:06:20.925328Z",
     "iopub.status.idle": "2024-05-20T18:06:20.943307Z",
     "shell.execute_reply": "2024-05-20T18:06:20.942057Z"
    },
    "papermill": {
     "duration": 0.045846,
     "end_time": "2024-05-20T18:06:20.945749",
     "exception": false,
     "start_time": "2024-05-20T18:06:20.899903",
     "status": "completed"
    },
    "tags": []
   },
   "outputs": [
    {
     "data": {
      "text/html": [
       "<div>\n",
       "<style scoped>\n",
       "    .dataframe tbody tr th:only-of-type {\n",
       "        vertical-align: middle;\n",
       "    }\n",
       "\n",
       "    .dataframe tbody tr th {\n",
       "        vertical-align: top;\n",
       "    }\n",
       "\n",
       "    .dataframe thead th {\n",
       "        text-align: right;\n",
       "    }\n",
       "</style>\n",
       "<table border=\"1\" class=\"dataframe\">\n",
       "  <thead>\n",
       "    <tr style=\"text-align: right;\">\n",
       "      <th></th>\n",
       "      <th>Gender</th>\n",
       "      <th>Age</th>\n",
       "      <th>Educ</th>\n",
       "      <th>MMSE</th>\n",
       "      <th>CDR</th>\n",
       "      <th>eTIV</th>\n",
       "      <th>nWBV</th>\n",
       "      <th>ASF</th>\n",
       "      <th>ID</th>\n",
       "    </tr>\n",
       "  </thead>\n",
       "  <tbody>\n",
       "    <tr>\n",
       "      <th>16</th>\n",
       "      <td>M</td>\n",
       "      <td>39</td>\n",
       "      <td>3.0</td>\n",
       "      <td>28.0</td>\n",
       "      <td>0.0</td>\n",
       "      <td>1636</td>\n",
       "      <td>0.813</td>\n",
       "      <td>1.073</td>\n",
       "      <td>16</td>\n",
       "    </tr>\n",
       "    <tr>\n",
       "      <th>64</th>\n",
       "      <td>M</td>\n",
       "      <td>33</td>\n",
       "      <td>4.0</td>\n",
       "      <td>30.0</td>\n",
       "      <td>0.0</td>\n",
       "      <td>1709</td>\n",
       "      <td>0.784</td>\n",
       "      <td>1.027</td>\n",
       "      <td>64</td>\n",
       "    </tr>\n",
       "    <tr>\n",
       "      <th>977</th>\n",
       "      <td>M</td>\n",
       "      <td>33</td>\n",
       "      <td>4.0</td>\n",
       "      <td>30.0</td>\n",
       "      <td>0.0</td>\n",
       "      <td>1709</td>\n",
       "      <td>0.784</td>\n",
       "      <td>1.027</td>\n",
       "      <td>977</td>\n",
       "    </tr>\n",
       "    <tr>\n",
       "      <th>984</th>\n",
       "      <td>M</td>\n",
       "      <td>39</td>\n",
       "      <td>3.0</td>\n",
       "      <td>28.0</td>\n",
       "      <td>0.0</td>\n",
       "      <td>1636</td>\n",
       "      <td>0.813</td>\n",
       "      <td>1.073</td>\n",
       "      <td>984</td>\n",
       "    </tr>\n",
       "  </tbody>\n",
       "</table>\n",
       "</div>"
      ],
      "text/plain": [
       "    Gender  Age  Educ  MMSE  CDR  eTIV   nWBV    ASF   ID\n",
       "16       M   39   3.0  28.0  0.0  1636  0.813  1.073   16\n",
       "64       M   33   4.0  30.0  0.0  1709  0.784  1.027   64\n",
       "977      M   33   4.0  30.0  0.0  1709  0.784  1.027  977\n",
       "984      M   39   3.0  28.0  0.0  1636  0.813  1.073  984"
      ]
     },
     "execution_count": 15,
     "metadata": {},
     "output_type": "execute_result"
    }
   ],
   "source": [
    "final_data[final_data['Age']<=40.00]"
   ]
  },
  {
   "cell_type": "code",
   "execution_count": 16,
   "id": "b1d27fa0",
   "metadata": {
    "execution": {
     "iopub.execute_input": "2024-05-20T18:06:20.996527Z",
     "iopub.status.busy": "2024-05-20T18:06:20.996136Z",
     "iopub.status.idle": "2024-05-20T18:06:21.003132Z",
     "shell.execute_reply": "2024-05-20T18:06:21.002060Z"
    },
    "papermill": {
     "duration": 0.035572,
     "end_time": "2024-05-20T18:06:21.005628",
     "exception": false,
     "start_time": "2024-05-20T18:06:20.970056",
     "status": "completed"
    },
    "tags": []
   },
   "outputs": [],
   "source": [
    "final_data = final_data[final_data['Age']>40.00]"
   ]
  },
  {
   "cell_type": "markdown",
   "id": "48664e29",
   "metadata": {
    "papermill": {
     "duration": 0.024522,
     "end_time": "2024-05-20T18:06:21.054504",
     "exception": false,
     "start_time": "2024-05-20T18:06:21.029982",
     "status": "completed"
    },
    "tags": []
   },
   "source": [
    "I will proceed with MMSE column, based on the Histogram I will check which samples fall under the separation of < 26."
   ]
  },
  {
   "cell_type": "code",
   "execution_count": 17,
   "id": "781b24b1",
   "metadata": {
    "execution": {
     "iopub.execute_input": "2024-05-20T18:06:21.105013Z",
     "iopub.status.busy": "2024-05-20T18:06:21.103727Z",
     "iopub.status.idle": "2024-05-20T18:06:21.126079Z",
     "shell.execute_reply": "2024-05-20T18:06:21.124971Z"
    },
    "papermill": {
     "duration": 0.050166,
     "end_time": "2024-05-20T18:06:21.128603",
     "exception": false,
     "start_time": "2024-05-20T18:06:21.078437",
     "status": "completed"
    },
    "tags": []
   },
   "outputs": [
    {
     "data": {
      "text/html": [
       "<div>\n",
       "<style scoped>\n",
       "    .dataframe tbody tr th:only-of-type {\n",
       "        vertical-align: middle;\n",
       "    }\n",
       "\n",
       "    .dataframe tbody tr th {\n",
       "        vertical-align: top;\n",
       "    }\n",
       "\n",
       "    .dataframe thead th {\n",
       "        text-align: right;\n",
       "    }\n",
       "</style>\n",
       "<table border=\"1\" class=\"dataframe\">\n",
       "  <thead>\n",
       "    <tr style=\"text-align: right;\">\n",
       "      <th></th>\n",
       "      <th>Gender</th>\n",
       "      <th>Age</th>\n",
       "      <th>Educ</th>\n",
       "      <th>MMSE</th>\n",
       "      <th>CDR</th>\n",
       "      <th>eTIV</th>\n",
       "      <th>nWBV</th>\n",
       "      <th>ASF</th>\n",
       "      <th>ID</th>\n",
       "    </tr>\n",
       "  </thead>\n",
       "  <tbody>\n",
       "    <tr>\n",
       "      <th>0</th>\n",
       "      <td>F</td>\n",
       "      <td>74</td>\n",
       "      <td>2.0</td>\n",
       "      <td>29.0</td>\n",
       "      <td>0.0</td>\n",
       "      <td>1344</td>\n",
       "      <td>0.743</td>\n",
       "      <td>1.306</td>\n",
       "      <td>0</td>\n",
       "    </tr>\n",
       "    <tr>\n",
       "      <th>1</th>\n",
       "      <td>F</td>\n",
       "      <td>55</td>\n",
       "      <td>4.0</td>\n",
       "      <td>29.0</td>\n",
       "      <td>0.0</td>\n",
       "      <td>1147</td>\n",
       "      <td>0.810</td>\n",
       "      <td>1.531</td>\n",
       "      <td>1</td>\n",
       "    </tr>\n",
       "    <tr>\n",
       "      <th>2</th>\n",
       "      <td>F</td>\n",
       "      <td>73</td>\n",
       "      <td>4.0</td>\n",
       "      <td>27.0</td>\n",
       "      <td>0.5</td>\n",
       "      <td>1454</td>\n",
       "      <td>0.708</td>\n",
       "      <td>1.207</td>\n",
       "      <td>2</td>\n",
       "    </tr>\n",
       "    <tr>\n",
       "      <th>8</th>\n",
       "      <td>M</td>\n",
       "      <td>74</td>\n",
       "      <td>5.0</td>\n",
       "      <td>30.0</td>\n",
       "      <td>0.0</td>\n",
       "      <td>1636</td>\n",
       "      <td>0.689</td>\n",
       "      <td>1.073</td>\n",
       "      <td>8</td>\n",
       "    </tr>\n",
       "    <tr>\n",
       "      <th>9</th>\n",
       "      <td>F</td>\n",
       "      <td>52</td>\n",
       "      <td>3.0</td>\n",
       "      <td>30.0</td>\n",
       "      <td>0.0</td>\n",
       "      <td>1321</td>\n",
       "      <td>0.827</td>\n",
       "      <td>1.329</td>\n",
       "      <td>9</td>\n",
       "    </tr>\n",
       "    <tr>\n",
       "      <th>...</th>\n",
       "      <td>...</td>\n",
       "      <td>...</td>\n",
       "      <td>...</td>\n",
       "      <td>...</td>\n",
       "      <td>...</td>\n",
       "      <td>...</td>\n",
       "      <td>...</td>\n",
       "      <td>...</td>\n",
       "      <td>...</td>\n",
       "    </tr>\n",
       "    <tr>\n",
       "      <th>1219</th>\n",
       "      <td>M</td>\n",
       "      <td>88</td>\n",
       "      <td>1.0</td>\n",
       "      <td>26.0</td>\n",
       "      <td>1.0</td>\n",
       "      <td>1419</td>\n",
       "      <td>0.674</td>\n",
       "      <td>1.236</td>\n",
       "      <td>1219</td>\n",
       "    </tr>\n",
       "    <tr>\n",
       "      <th>1223</th>\n",
       "      <td>M</td>\n",
       "      <td>89</td>\n",
       "      <td>4.0</td>\n",
       "      <td>28.0</td>\n",
       "      <td>0.0</td>\n",
       "      <td>1631</td>\n",
       "      <td>0.682</td>\n",
       "      <td>1.076</td>\n",
       "      <td>1223</td>\n",
       "    </tr>\n",
       "    <tr>\n",
       "      <th>1226</th>\n",
       "      <td>M</td>\n",
       "      <td>90</td>\n",
       "      <td>2.0</td>\n",
       "      <td>21.0</td>\n",
       "      <td>0.5</td>\n",
       "      <td>1307</td>\n",
       "      <td>0.689</td>\n",
       "      <td>1.342</td>\n",
       "      <td>1226</td>\n",
       "    </tr>\n",
       "    <tr>\n",
       "      <th>1227</th>\n",
       "      <td>M</td>\n",
       "      <td>90</td>\n",
       "      <td>1.0</td>\n",
       "      <td>23.0</td>\n",
       "      <td>0.5</td>\n",
       "      <td>1668</td>\n",
       "      <td>0.644</td>\n",
       "      <td>1.052</td>\n",
       "      <td>1227</td>\n",
       "    </tr>\n",
       "    <tr>\n",
       "      <th>1229</th>\n",
       "      <td>M</td>\n",
       "      <td>90</td>\n",
       "      <td>2.0</td>\n",
       "      <td>25.0</td>\n",
       "      <td>0.0</td>\n",
       "      <td>1301</td>\n",
       "      <td>0.645</td>\n",
       "      <td>1.349</td>\n",
       "      <td>1229</td>\n",
       "    </tr>\n",
       "  </tbody>\n",
       "</table>\n",
       "<p>436 rows × 9 columns</p>\n",
       "</div>"
      ],
      "text/plain": [
       "     Gender  Age  Educ  MMSE  CDR  eTIV   nWBV    ASF    ID\n",
       "0         F   74   2.0  29.0  0.0  1344  0.743  1.306     0\n",
       "1         F   55   4.0  29.0  0.0  1147  0.810  1.531     1\n",
       "2         F   73   4.0  27.0  0.5  1454  0.708  1.207     2\n",
       "8         M   74   5.0  30.0  0.0  1636  0.689  1.073     8\n",
       "9         F   52   3.0  30.0  0.0  1321  0.827  1.329     9\n",
       "...     ...  ...   ...   ...  ...   ...    ...    ...   ...\n",
       "1219      M   88   1.0  26.0  1.0  1419  0.674  1.236  1219\n",
       "1223      M   89   4.0  28.0  0.0  1631  0.682  1.076  1223\n",
       "1226      M   90   2.0  21.0  0.5  1307  0.689  1.342  1226\n",
       "1227      M   90   1.0  23.0  0.5  1668  0.644  1.052  1227\n",
       "1229      M   90   2.0  25.0  0.0  1301  0.645  1.349  1229\n",
       "\n",
       "[436 rows x 9 columns]"
      ]
     },
     "execution_count": 17,
     "metadata": {},
     "output_type": "execute_result"
    }
   ],
   "source": [
    "final_data[final_data['MMSE']>=20.0]"
   ]
  },
  {
   "cell_type": "code",
   "execution_count": 18,
   "id": "3e258d37",
   "metadata": {
    "execution": {
     "iopub.execute_input": "2024-05-20T18:06:21.179368Z",
     "iopub.status.busy": "2024-05-20T18:06:21.178946Z",
     "iopub.status.idle": "2024-05-20T18:06:21.489951Z",
     "shell.execute_reply": "2024-05-20T18:06:21.488730Z"
    },
    "papermill": {
     "duration": 0.339454,
     "end_time": "2024-05-20T18:06:21.492530",
     "exception": false,
     "start_time": "2024-05-20T18:06:21.153076",
     "status": "completed"
    },
    "tags": []
   },
   "outputs": [
    {
     "data": {
      "text/plain": [
       "<Axes: xlabel='ID', ylabel='MMSE'>"
      ]
     },
     "execution_count": 18,
     "metadata": {},
     "output_type": "execute_result"
    },
    {
     "data": {
      "image/png": "[encoded data removed]",
      "text/plain": [
       "<Figure size 640x480 with 1 Axes>"
      ]
     },
     "metadata": {},
     "output_type": "display_data"
    }
   ],
   "source": [
    "final_data[['ID','MMSE']].plot(kind='scatter', x='ID', y='MMSE')"
   ]
  },
  {
   "cell_type": "code",
   "execution_count": 19,
   "id": "95cc1ba2",
   "metadata": {
    "execution": {
     "iopub.execute_input": "2024-05-20T18:06:21.545274Z",
     "iopub.status.busy": "2024-05-20T18:06:21.544814Z",
     "iopub.status.idle": "2024-05-20T18:06:21.551832Z",
     "shell.execute_reply": "2024-05-20T18:06:21.550751Z"
    },
    "papermill": {
     "duration": 0.036356,
     "end_time": "2024-05-20T18:06:21.554254",
     "exception": false,
     "start_time": "2024-05-20T18:06:21.517898",
     "status": "completed"
    },
    "tags": []
   },
   "outputs": [],
   "source": [
    "final_data = final_data[final_data['MMSE']>=20.00]"
   ]
  },
  {
   "cell_type": "markdown",
   "id": "2a5bff90",
   "metadata": {
    "papermill": {
     "duration": 0.024769,
     "end_time": "2024-05-20T18:06:21.604376",
     "exception": false,
     "start_time": "2024-05-20T18:06:21.579607",
     "status": "completed"
    },
    "tags": []
   },
   "source": [
    " CDR, for the samples > 1."
   ]
  },
  {
   "cell_type": "code",
   "execution_count": 20,
   "id": "a396b126",
   "metadata": {
    "execution": {
     "iopub.execute_input": "2024-05-20T18:06:21.658833Z",
     "iopub.status.busy": "2024-05-20T18:06:21.658383Z",
     "iopub.status.idle": "2024-05-20T18:06:21.680631Z",
     "shell.execute_reply": "2024-05-20T18:06:21.679560Z"
    },
    "papermill": {
     "duration": 0.052399,
     "end_time": "2024-05-20T18:06:21.682882",
     "exception": false,
     "start_time": "2024-05-20T18:06:21.630483",
     "status": "completed"
    },
    "tags": []
   },
   "outputs": [
    {
     "data": {
      "text/html": [
       "<div>\n",
       "<style scoped>\n",
       "    .dataframe tbody tr th:only-of-type {\n",
       "        vertical-align: middle;\n",
       "    }\n",
       "\n",
       "    .dataframe tbody tr th {\n",
       "        vertical-align: top;\n",
       "    }\n",
       "\n",
       "    .dataframe thead th {\n",
       "        text-align: right;\n",
       "    }\n",
       "</style>\n",
       "<table border=\"1\" class=\"dataframe\">\n",
       "  <thead>\n",
       "    <tr style=\"text-align: right;\">\n",
       "      <th></th>\n",
       "      <th>Gender</th>\n",
       "      <th>Age</th>\n",
       "      <th>Educ</th>\n",
       "      <th>MMSE</th>\n",
       "      <th>CDR</th>\n",
       "      <th>eTIV</th>\n",
       "      <th>nWBV</th>\n",
       "      <th>ASF</th>\n",
       "      <th>ID</th>\n",
       "    </tr>\n",
       "  </thead>\n",
       "  <tbody>\n",
       "    <tr>\n",
       "      <th>0</th>\n",
       "      <td>F</td>\n",
       "      <td>74</td>\n",
       "      <td>2.0</td>\n",
       "      <td>29.0</td>\n",
       "      <td>0.0</td>\n",
       "      <td>1344</td>\n",
       "      <td>0.743</td>\n",
       "      <td>1.306</td>\n",
       "      <td>0</td>\n",
       "    </tr>\n",
       "    <tr>\n",
       "      <th>1</th>\n",
       "      <td>F</td>\n",
       "      <td>55</td>\n",
       "      <td>4.0</td>\n",
       "      <td>29.0</td>\n",
       "      <td>0.0</td>\n",
       "      <td>1147</td>\n",
       "      <td>0.810</td>\n",
       "      <td>1.531</td>\n",
       "      <td>1</td>\n",
       "    </tr>\n",
       "    <tr>\n",
       "      <th>2</th>\n",
       "      <td>F</td>\n",
       "      <td>73</td>\n",
       "      <td>4.0</td>\n",
       "      <td>27.0</td>\n",
       "      <td>0.5</td>\n",
       "      <td>1454</td>\n",
       "      <td>0.708</td>\n",
       "      <td>1.207</td>\n",
       "      <td>2</td>\n",
       "    </tr>\n",
       "    <tr>\n",
       "      <th>8</th>\n",
       "      <td>M</td>\n",
       "      <td>74</td>\n",
       "      <td>5.0</td>\n",
       "      <td>30.0</td>\n",
       "      <td>0.0</td>\n",
       "      <td>1636</td>\n",
       "      <td>0.689</td>\n",
       "      <td>1.073</td>\n",
       "      <td>8</td>\n",
       "    </tr>\n",
       "    <tr>\n",
       "      <th>9</th>\n",
       "      <td>F</td>\n",
       "      <td>52</td>\n",
       "      <td>3.0</td>\n",
       "      <td>30.0</td>\n",
       "      <td>0.0</td>\n",
       "      <td>1321</td>\n",
       "      <td>0.827</td>\n",
       "      <td>1.329</td>\n",
       "      <td>9</td>\n",
       "    </tr>\n",
       "    <tr>\n",
       "      <th>...</th>\n",
       "      <td>...</td>\n",
       "      <td>...</td>\n",
       "      <td>...</td>\n",
       "      <td>...</td>\n",
       "      <td>...</td>\n",
       "      <td>...</td>\n",
       "      <td>...</td>\n",
       "      <td>...</td>\n",
       "      <td>...</td>\n",
       "    </tr>\n",
       "    <tr>\n",
       "      <th>1219</th>\n",
       "      <td>M</td>\n",
       "      <td>88</td>\n",
       "      <td>1.0</td>\n",
       "      <td>26.0</td>\n",
       "      <td>1.0</td>\n",
       "      <td>1419</td>\n",
       "      <td>0.674</td>\n",
       "      <td>1.236</td>\n",
       "      <td>1219</td>\n",
       "    </tr>\n",
       "    <tr>\n",
       "      <th>1223</th>\n",
       "      <td>M</td>\n",
       "      <td>89</td>\n",
       "      <td>4.0</td>\n",
       "      <td>28.0</td>\n",
       "      <td>0.0</td>\n",
       "      <td>1631</td>\n",
       "      <td>0.682</td>\n",
       "      <td>1.076</td>\n",
       "      <td>1223</td>\n",
       "    </tr>\n",
       "    <tr>\n",
       "      <th>1226</th>\n",
       "      <td>M</td>\n",
       "      <td>90</td>\n",
       "      <td>2.0</td>\n",
       "      <td>21.0</td>\n",
       "      <td>0.5</td>\n",
       "      <td>1307</td>\n",
       "      <td>0.689</td>\n",
       "      <td>1.342</td>\n",
       "      <td>1226</td>\n",
       "    </tr>\n",
       "    <tr>\n",
       "      <th>1227</th>\n",
       "      <td>M</td>\n",
       "      <td>90</td>\n",
       "      <td>1.0</td>\n",
       "      <td>23.0</td>\n",
       "      <td>0.5</td>\n",
       "      <td>1668</td>\n",
       "      <td>0.644</td>\n",
       "      <td>1.052</td>\n",
       "      <td>1227</td>\n",
       "    </tr>\n",
       "    <tr>\n",
       "      <th>1229</th>\n",
       "      <td>M</td>\n",
       "      <td>90</td>\n",
       "      <td>2.0</td>\n",
       "      <td>25.0</td>\n",
       "      <td>0.0</td>\n",
       "      <td>1301</td>\n",
       "      <td>0.645</td>\n",
       "      <td>1.349</td>\n",
       "      <td>1229</td>\n",
       "    </tr>\n",
       "  </tbody>\n",
       "</table>\n",
       "<p>436 rows × 9 columns</p>\n",
       "</div>"
      ],
      "text/plain": [
       "     Gender  Age  Educ  MMSE  CDR  eTIV   nWBV    ASF    ID\n",
       "0         F   74   2.0  29.0  0.0  1344  0.743  1.306     0\n",
       "1         F   55   4.0  29.0  0.0  1147  0.810  1.531     1\n",
       "2         F   73   4.0  27.0  0.5  1454  0.708  1.207     2\n",
       "8         M   74   5.0  30.0  0.0  1636  0.689  1.073     8\n",
       "9         F   52   3.0  30.0  0.0  1321  0.827  1.329     9\n",
       "...     ...  ...   ...   ...  ...   ...    ...    ...   ...\n",
       "1219      M   88   1.0  26.0  1.0  1419  0.674  1.236  1219\n",
       "1223      M   89   4.0  28.0  0.0  1631  0.682  1.076  1223\n",
       "1226      M   90   2.0  21.0  0.5  1307  0.689  1.342  1226\n",
       "1227      M   90   1.0  23.0  0.5  1668  0.644  1.052  1227\n",
       "1229      M   90   2.0  25.0  0.0  1301  0.645  1.349  1229\n",
       "\n",
       "[436 rows x 9 columns]"
      ]
     },
     "execution_count": 20,
     "metadata": {},
     "output_type": "execute_result"
    }
   ],
   "source": [
    "final_data[final_data['CDR']<=1.0]"
   ]
  },
  {
   "cell_type": "code",
   "execution_count": 21,
   "id": "deb2c2b4",
   "metadata": {
    "execution": {
     "iopub.execute_input": "2024-05-20T18:06:21.736636Z",
     "iopub.status.busy": "2024-05-20T18:06:21.735816Z",
     "iopub.status.idle": "2024-05-20T18:06:22.027088Z",
     "shell.execute_reply": "2024-05-20T18:06:22.025789Z"
    },
    "papermill": {
     "duration": 0.321255,
     "end_time": "2024-05-20T18:06:22.029847",
     "exception": false,
     "start_time": "2024-05-20T18:06:21.708592",
     "status": "completed"
    },
    "tags": []
   },
   "outputs": [
    {
     "data": {
      "text/plain": [
       "<Axes: xlabel='ID', ylabel='CDR'>"
      ]
     },
     "execution_count": 21,
     "metadata": {},
     "output_type": "execute_result"
    },
    {
     "data": {
      "image/png": "[encoded data removed]",
      "text/plain": [
       "<Figure size 640x480 with 1 Axes>"
      ]
     },
     "metadata": {},
     "output_type": "display_data"
    }
   ],
   "source": [
    "final_data[['ID','CDR']].plot(kind='scatter', x='ID', y='CDR')"
   ]
  },
  {
   "cell_type": "code",
   "execution_count": 22,
   "id": "d8692068",
   "metadata": {
    "execution": {
     "iopub.execute_input": "2024-05-20T18:06:22.085866Z",
     "iopub.status.busy": "2024-05-20T18:06:22.085373Z",
     "iopub.status.idle": "2024-05-20T18:06:22.092832Z",
     "shell.execute_reply": "2024-05-20T18:06:22.091383Z"
    },
    "papermill": {
     "duration": 0.038759,
     "end_time": "2024-05-20T18:06:22.095609",
     "exception": false,
     "start_time": "2024-05-20T18:06:22.056850",
     "status": "completed"
    },
    "tags": []
   },
   "outputs": [],
   "source": [
    "final_data = final_data[final_data['CDR']<=1.0]"
   ]
  },
  {
   "cell_type": "markdown",
   "id": "e2903e60",
   "metadata": {
    "papermill": {
     "duration": 0.026435,
     "end_time": "2024-05-20T18:06:22.148736",
     "exception": false,
     "start_time": "2024-05-20T18:06:22.122301",
     "status": "completed"
    },
    "tags": []
   },
   "source": [
    "eTIV with anything > 1800"
   ]
  },
  {
   "cell_type": "code",
   "execution_count": 23,
   "id": "b7e86b9e",
   "metadata": {
    "execution": {
     "iopub.execute_input": "2024-05-20T18:06:22.207480Z",
     "iopub.status.busy": "2024-05-20T18:06:22.206778Z",
     "iopub.status.idle": "2024-05-20T18:06:22.227197Z",
     "shell.execute_reply": "2024-05-20T18:06:22.226364Z"
    },
    "papermill": {
     "duration": 0.051127,
     "end_time": "2024-05-20T18:06:22.229718",
     "exception": false,
     "start_time": "2024-05-20T18:06:22.178591",
     "status": "completed"
    },
    "tags": []
   },
   "outputs": [
    {
     "data": {
      "text/html": [
       "<div>\n",
       "<style scoped>\n",
       "    .dataframe tbody tr th:only-of-type {\n",
       "        vertical-align: middle;\n",
       "    }\n",
       "\n",
       "    .dataframe tbody tr th {\n",
       "        vertical-align: top;\n",
       "    }\n",
       "\n",
       "    .dataframe thead th {\n",
       "        text-align: right;\n",
       "    }\n",
       "</style>\n",
       "<table border=\"1\" class=\"dataframe\">\n",
       "  <thead>\n",
       "    <tr style=\"text-align: right;\">\n",
       "      <th></th>\n",
       "      <th>Gender</th>\n",
       "      <th>Age</th>\n",
       "      <th>Educ</th>\n",
       "      <th>MMSE</th>\n",
       "      <th>CDR</th>\n",
       "      <th>eTIV</th>\n",
       "      <th>nWBV</th>\n",
       "      <th>ASF</th>\n",
       "      <th>ID</th>\n",
       "    </tr>\n",
       "  </thead>\n",
       "  <tbody>\n",
       "    <tr>\n",
       "      <th>0</th>\n",
       "      <td>F</td>\n",
       "      <td>74</td>\n",
       "      <td>2.0</td>\n",
       "      <td>29.0</td>\n",
       "      <td>0.0</td>\n",
       "      <td>1344</td>\n",
       "      <td>0.743</td>\n",
       "      <td>1.306</td>\n",
       "      <td>0</td>\n",
       "    </tr>\n",
       "    <tr>\n",
       "      <th>1</th>\n",
       "      <td>F</td>\n",
       "      <td>55</td>\n",
       "      <td>4.0</td>\n",
       "      <td>29.0</td>\n",
       "      <td>0.0</td>\n",
       "      <td>1147</td>\n",
       "      <td>0.810</td>\n",
       "      <td>1.531</td>\n",
       "      <td>1</td>\n",
       "    </tr>\n",
       "    <tr>\n",
       "      <th>2</th>\n",
       "      <td>F</td>\n",
       "      <td>73</td>\n",
       "      <td>4.0</td>\n",
       "      <td>27.0</td>\n",
       "      <td>0.5</td>\n",
       "      <td>1454</td>\n",
       "      <td>0.708</td>\n",
       "      <td>1.207</td>\n",
       "      <td>2</td>\n",
       "    </tr>\n",
       "    <tr>\n",
       "      <th>8</th>\n",
       "      <td>M</td>\n",
       "      <td>74</td>\n",
       "      <td>5.0</td>\n",
       "      <td>30.0</td>\n",
       "      <td>0.0</td>\n",
       "      <td>1636</td>\n",
       "      <td>0.689</td>\n",
       "      <td>1.073</td>\n",
       "      <td>8</td>\n",
       "    </tr>\n",
       "    <tr>\n",
       "      <th>9</th>\n",
       "      <td>F</td>\n",
       "      <td>52</td>\n",
       "      <td>3.0</td>\n",
       "      <td>30.0</td>\n",
       "      <td>0.0</td>\n",
       "      <td>1321</td>\n",
       "      <td>0.827</td>\n",
       "      <td>1.329</td>\n",
       "      <td>9</td>\n",
       "    </tr>\n",
       "    <tr>\n",
       "      <th>...</th>\n",
       "      <td>...</td>\n",
       "      <td>...</td>\n",
       "      <td>...</td>\n",
       "      <td>...</td>\n",
       "      <td>...</td>\n",
       "      <td>...</td>\n",
       "      <td>...</td>\n",
       "      <td>...</td>\n",
       "      <td>...</td>\n",
       "    </tr>\n",
       "    <tr>\n",
       "      <th>1219</th>\n",
       "      <td>M</td>\n",
       "      <td>88</td>\n",
       "      <td>1.0</td>\n",
       "      <td>26.0</td>\n",
       "      <td>1.0</td>\n",
       "      <td>1419</td>\n",
       "      <td>0.674</td>\n",
       "      <td>1.236</td>\n",
       "      <td>1219</td>\n",
       "    </tr>\n",
       "    <tr>\n",
       "      <th>1223</th>\n",
       "      <td>M</td>\n",
       "      <td>89</td>\n",
       "      <td>4.0</td>\n",
       "      <td>28.0</td>\n",
       "      <td>0.0</td>\n",
       "      <td>1631</td>\n",
       "      <td>0.682</td>\n",
       "      <td>1.076</td>\n",
       "      <td>1223</td>\n",
       "    </tr>\n",
       "    <tr>\n",
       "      <th>1226</th>\n",
       "      <td>M</td>\n",
       "      <td>90</td>\n",
       "      <td>2.0</td>\n",
       "      <td>21.0</td>\n",
       "      <td>0.5</td>\n",
       "      <td>1307</td>\n",
       "      <td>0.689</td>\n",
       "      <td>1.342</td>\n",
       "      <td>1226</td>\n",
       "    </tr>\n",
       "    <tr>\n",
       "      <th>1227</th>\n",
       "      <td>M</td>\n",
       "      <td>90</td>\n",
       "      <td>1.0</td>\n",
       "      <td>23.0</td>\n",
       "      <td>0.5</td>\n",
       "      <td>1668</td>\n",
       "      <td>0.644</td>\n",
       "      <td>1.052</td>\n",
       "      <td>1227</td>\n",
       "    </tr>\n",
       "    <tr>\n",
       "      <th>1229</th>\n",
       "      <td>M</td>\n",
       "      <td>90</td>\n",
       "      <td>2.0</td>\n",
       "      <td>25.0</td>\n",
       "      <td>0.0</td>\n",
       "      <td>1301</td>\n",
       "      <td>0.645</td>\n",
       "      <td>1.349</td>\n",
       "      <td>1229</td>\n",
       "    </tr>\n",
       "  </tbody>\n",
       "</table>\n",
       "<p>424 rows × 9 columns</p>\n",
       "</div>"
      ],
      "text/plain": [
       "     Gender  Age  Educ  MMSE  CDR  eTIV   nWBV    ASF    ID\n",
       "0         F   74   2.0  29.0  0.0  1344  0.743  1.306     0\n",
       "1         F   55   4.0  29.0  0.0  1147  0.810  1.531     1\n",
       "2         F   73   4.0  27.0  0.5  1454  0.708  1.207     2\n",
       "8         M   74   5.0  30.0  0.0  1636  0.689  1.073     8\n",
       "9         F   52   3.0  30.0  0.0  1321  0.827  1.329     9\n",
       "...     ...  ...   ...   ...  ...   ...    ...    ...   ...\n",
       "1219      M   88   1.0  26.0  1.0  1419  0.674  1.236  1219\n",
       "1223      M   89   4.0  28.0  0.0  1631  0.682  1.076  1223\n",
       "1226      M   90   2.0  21.0  0.5  1307  0.689  1.342  1226\n",
       "1227      M   90   1.0  23.0  0.5  1668  0.644  1.052  1227\n",
       "1229      M   90   2.0  25.0  0.0  1301  0.645  1.349  1229\n",
       "\n",
       "[424 rows x 9 columns]"
      ]
     },
     "execution_count": 23,
     "metadata": {},
     "output_type": "execute_result"
    }
   ],
   "source": [
    "final_data[final_data['eTIV']<=1800.0]"
   ]
  },
  {
   "cell_type": "code",
   "execution_count": 24,
   "id": "8122319f",
   "metadata": {
    "execution": {
     "iopub.execute_input": "2024-05-20T18:06:22.286215Z",
     "iopub.status.busy": "2024-05-20T18:06:22.285486Z",
     "iopub.status.idle": "2024-05-20T18:06:22.570874Z",
     "shell.execute_reply": "2024-05-20T18:06:22.569941Z"
    },
    "papermill": {
     "duration": 0.316029,
     "end_time": "2024-05-20T18:06:22.573086",
     "exception": false,
     "start_time": "2024-05-20T18:06:22.257057",
     "status": "completed"
    },
    "tags": []
   },
   "outputs": [
    {
     "data": {
      "text/plain": [
       "<Axes: xlabel='ID', ylabel='eTIV'>"
      ]
     },
     "execution_count": 24,
     "metadata": {},
     "output_type": "execute_result"
    },
    {
     "data": {
      "image/png": "[encoded data removed]",
      "text/plain": [
       "<Figure size 640x480 with 1 Axes>"
      ]
     },
     "metadata": {},
     "output_type": "display_data"
    }
   ],
   "source": [
    "final_data[['ID','eTIV']].plot(kind='scatter', x='ID', y='eTIV')"
   ]
  },
  {
   "cell_type": "code",
   "execution_count": 25,
   "id": "9bdf9e27",
   "metadata": {
    "execution": {
     "iopub.execute_input": "2024-05-20T18:06:22.629943Z",
     "iopub.status.busy": "2024-05-20T18:06:22.629339Z",
     "iopub.status.idle": "2024-05-20T18:06:22.636100Z",
     "shell.execute_reply": "2024-05-20T18:06:22.634921Z"
    },
    "papermill": {
     "duration": 0.037771,
     "end_time": "2024-05-20T18:06:22.638353",
     "exception": false,
     "start_time": "2024-05-20T18:06:22.600582",
     "status": "completed"
    },
    "tags": []
   },
   "outputs": [],
   "source": [
    "final_data = final_data[final_data['eTIV']<=1800.00]"
   ]
  },
  {
   "cell_type": "markdown",
   "id": "0c6af976",
   "metadata": {
    "papermill": {
     "duration": 0.027013,
     "end_time": "2024-05-20T18:06:22.693460",
     "exception": false,
     "start_time": "2024-05-20T18:06:22.666447",
     "status": "completed"
    },
    "tags": []
   },
   "source": [
    "ASF, with anythiing > 1.5"
   ]
  },
  {
   "cell_type": "code",
   "execution_count": 26,
   "id": "ab04e9f2",
   "metadata": {
    "execution": {
     "iopub.execute_input": "2024-05-20T18:06:22.749746Z",
     "iopub.status.busy": "2024-05-20T18:06:22.749310Z",
     "iopub.status.idle": "2024-05-20T18:06:22.772764Z",
     "shell.execute_reply": "2024-05-20T18:06:22.771564Z"
    },
    "papermill": {
     "duration": 0.054562,
     "end_time": "2024-05-20T18:06:22.775333",
     "exception": false,
     "start_time": "2024-05-20T18:06:22.720771",
     "status": "completed"
    },
    "tags": []
   },
   "outputs": [
    {
     "data": {
      "text/html": [
       "<div>\n",
       "<style scoped>\n",
       "    .dataframe tbody tr th:only-of-type {\n",
       "        vertical-align: middle;\n",
       "    }\n",
       "\n",
       "    .dataframe tbody tr th {\n",
       "        vertical-align: top;\n",
       "    }\n",
       "\n",
       "    .dataframe thead th {\n",
       "        text-align: right;\n",
       "    }\n",
       "</style>\n",
       "<table border=\"1\" class=\"dataframe\">\n",
       "  <thead>\n",
       "    <tr style=\"text-align: right;\">\n",
       "      <th></th>\n",
       "      <th>Gender</th>\n",
       "      <th>Age</th>\n",
       "      <th>Educ</th>\n",
       "      <th>MMSE</th>\n",
       "      <th>CDR</th>\n",
       "      <th>eTIV</th>\n",
       "      <th>nWBV</th>\n",
       "      <th>ASF</th>\n",
       "      <th>ID</th>\n",
       "    </tr>\n",
       "  </thead>\n",
       "  <tbody>\n",
       "    <tr>\n",
       "      <th>0</th>\n",
       "      <td>F</td>\n",
       "      <td>74</td>\n",
       "      <td>2.0</td>\n",
       "      <td>29.0</td>\n",
       "      <td>0.0</td>\n",
       "      <td>1344</td>\n",
       "      <td>0.743</td>\n",
       "      <td>1.306</td>\n",
       "      <td>0</td>\n",
       "    </tr>\n",
       "    <tr>\n",
       "      <th>2</th>\n",
       "      <td>F</td>\n",
       "      <td>73</td>\n",
       "      <td>4.0</td>\n",
       "      <td>27.0</td>\n",
       "      <td>0.5</td>\n",
       "      <td>1454</td>\n",
       "      <td>0.708</td>\n",
       "      <td>1.207</td>\n",
       "      <td>2</td>\n",
       "    </tr>\n",
       "    <tr>\n",
       "      <th>8</th>\n",
       "      <td>M</td>\n",
       "      <td>74</td>\n",
       "      <td>5.0</td>\n",
       "      <td>30.0</td>\n",
       "      <td>0.0</td>\n",
       "      <td>1636</td>\n",
       "      <td>0.689</td>\n",
       "      <td>1.073</td>\n",
       "      <td>8</td>\n",
       "    </tr>\n",
       "    <tr>\n",
       "      <th>9</th>\n",
       "      <td>F</td>\n",
       "      <td>52</td>\n",
       "      <td>3.0</td>\n",
       "      <td>30.0</td>\n",
       "      <td>0.0</td>\n",
       "      <td>1321</td>\n",
       "      <td>0.827</td>\n",
       "      <td>1.329</td>\n",
       "      <td>9</td>\n",
       "    </tr>\n",
       "    <tr>\n",
       "      <th>11</th>\n",
       "      <td>F</td>\n",
       "      <td>81</td>\n",
       "      <td>5.0</td>\n",
       "      <td>30.0</td>\n",
       "      <td>0.0</td>\n",
       "      <td>1664</td>\n",
       "      <td>0.679</td>\n",
       "      <td>1.055</td>\n",
       "      <td>11</td>\n",
       "    </tr>\n",
       "    <tr>\n",
       "      <th>...</th>\n",
       "      <td>...</td>\n",
       "      <td>...</td>\n",
       "      <td>...</td>\n",
       "      <td>...</td>\n",
       "      <td>...</td>\n",
       "      <td>...</td>\n",
       "      <td>...</td>\n",
       "      <td>...</td>\n",
       "      <td>...</td>\n",
       "    </tr>\n",
       "    <tr>\n",
       "      <th>1219</th>\n",
       "      <td>M</td>\n",
       "      <td>88</td>\n",
       "      <td>1.0</td>\n",
       "      <td>26.0</td>\n",
       "      <td>1.0</td>\n",
       "      <td>1419</td>\n",
       "      <td>0.674</td>\n",
       "      <td>1.236</td>\n",
       "      <td>1219</td>\n",
       "    </tr>\n",
       "    <tr>\n",
       "      <th>1223</th>\n",
       "      <td>M</td>\n",
       "      <td>89</td>\n",
       "      <td>4.0</td>\n",
       "      <td>28.0</td>\n",
       "      <td>0.0</td>\n",
       "      <td>1631</td>\n",
       "      <td>0.682</td>\n",
       "      <td>1.076</td>\n",
       "      <td>1223</td>\n",
       "    </tr>\n",
       "    <tr>\n",
       "      <th>1226</th>\n",
       "      <td>M</td>\n",
       "      <td>90</td>\n",
       "      <td>2.0</td>\n",
       "      <td>21.0</td>\n",
       "      <td>0.5</td>\n",
       "      <td>1307</td>\n",
       "      <td>0.689</td>\n",
       "      <td>1.342</td>\n",
       "      <td>1226</td>\n",
       "    </tr>\n",
       "    <tr>\n",
       "      <th>1227</th>\n",
       "      <td>M</td>\n",
       "      <td>90</td>\n",
       "      <td>1.0</td>\n",
       "      <td>23.0</td>\n",
       "      <td>0.5</td>\n",
       "      <td>1668</td>\n",
       "      <td>0.644</td>\n",
       "      <td>1.052</td>\n",
       "      <td>1227</td>\n",
       "    </tr>\n",
       "    <tr>\n",
       "      <th>1229</th>\n",
       "      <td>M</td>\n",
       "      <td>90</td>\n",
       "      <td>2.0</td>\n",
       "      <td>25.0</td>\n",
       "      <td>0.0</td>\n",
       "      <td>1301</td>\n",
       "      <td>0.645</td>\n",
       "      <td>1.349</td>\n",
       "      <td>1229</td>\n",
       "    </tr>\n",
       "  </tbody>\n",
       "</table>\n",
       "<p>416 rows × 9 columns</p>\n",
       "</div>"
      ],
      "text/plain": [
       "     Gender  Age  Educ  MMSE  CDR  eTIV   nWBV    ASF    ID\n",
       "0         F   74   2.0  29.0  0.0  1344  0.743  1.306     0\n",
       "2         F   73   4.0  27.0  0.5  1454  0.708  1.207     2\n",
       "8         M   74   5.0  30.0  0.0  1636  0.689  1.073     8\n",
       "9         F   52   3.0  30.0  0.0  1321  0.827  1.329     9\n",
       "11        F   81   5.0  30.0  0.0  1664  0.679  1.055    11\n",
       "...     ...  ...   ...   ...  ...   ...    ...    ...   ...\n",
       "1219      M   88   1.0  26.0  1.0  1419  0.674  1.236  1219\n",
       "1223      M   89   4.0  28.0  0.0  1631  0.682  1.076  1223\n",
       "1226      M   90   2.0  21.0  0.5  1307  0.689  1.342  1226\n",
       "1227      M   90   1.0  23.0  0.5  1668  0.644  1.052  1227\n",
       "1229      M   90   2.0  25.0  0.0  1301  0.645  1.349  1229\n",
       "\n",
       "[416 rows x 9 columns]"
      ]
     },
     "execution_count": 26,
     "metadata": {},
     "output_type": "execute_result"
    }
   ],
   "source": [
    "final_data[final_data['ASF']<=1.5]"
   ]
  },
  {
   "cell_type": "code",
   "execution_count": 27,
   "id": "5d9f0f79",
   "metadata": {
    "execution": {
     "iopub.execute_input": "2024-05-20T18:06:22.833390Z",
     "iopub.status.busy": "2024-05-20T18:06:22.832971Z",
     "iopub.status.idle": "2024-05-20T18:06:23.141678Z",
     "shell.execute_reply": "2024-05-20T18:06:23.140831Z"
    },
    "papermill": {
     "duration": 0.340859,
     "end_time": "2024-05-20T18:06:23.144166",
     "exception": false,
     "start_time": "2024-05-20T18:06:22.803307",
     "status": "completed"
    },
    "tags": []
   },
   "outputs": [
    {
     "data": {
      "text/plain": [
       "<Axes: xlabel='ID', ylabel='ASF'>"
      ]
     },
     "execution_count": 27,
     "metadata": {},
     "output_type": "execute_result"
    },
    {
     "data": {
      "image/png": "[encoded data removed]",
      "text/plain": [
       "<Figure size 640x480 with 1 Axes>"
      ]
     },
     "metadata": {},
     "output_type": "display_data"
    }
   ],
   "source": [
    "final_data[['ID','ASF']].plot(kind='scatter', x='ID', y='ASF')"
   ]
  },
  {
   "cell_type": "code",
   "execution_count": 28,
   "id": "6c4933c7",
   "metadata": {
    "execution": {
     "iopub.execute_input": "2024-05-20T18:06:23.204515Z",
     "iopub.status.busy": "2024-05-20T18:06:23.203574Z",
     "iopub.status.idle": "2024-05-20T18:06:23.209970Z",
     "shell.execute_reply": "2024-05-20T18:06:23.208716Z"
    },
    "papermill": {
     "duration": 0.038735,
     "end_time": "2024-05-20T18:06:23.212265",
     "exception": false,
     "start_time": "2024-05-20T18:06:23.173530",
     "status": "completed"
    },
    "tags": []
   },
   "outputs": [],
   "source": [
    "final_data = final_data[final_data['ASF']<=1.5]"
   ]
  },
  {
   "cell_type": "markdown",
   "id": "186e7f58",
   "metadata": {
    "papermill": {
     "duration": 0.02796,
     "end_time": "2024-05-20T18:06:23.268730",
     "exception": false,
     "start_time": "2024-05-20T18:06:23.240770",
     "status": "completed"
    },
    "tags": []
   },
   "source": [
    "Check for Educ"
   ]
  },
  {
   "cell_type": "code",
   "execution_count": 29,
   "id": "777524d9",
   "metadata": {
    "execution": {
     "iopub.execute_input": "2024-05-20T18:06:23.328444Z",
     "iopub.status.busy": "2024-05-20T18:06:23.327266Z",
     "iopub.status.idle": "2024-05-20T18:06:23.352348Z",
     "shell.execute_reply": "2024-05-20T18:06:23.351099Z"
    },
    "papermill": {
     "duration": 0.05784,
     "end_time": "2024-05-20T18:06:23.354931",
     "exception": false,
     "start_time": "2024-05-20T18:06:23.297091",
     "status": "completed"
    },
    "tags": []
   },
   "outputs": [
    {
     "data": {
      "text/html": [
       "<div>\n",
       "<style scoped>\n",
       "    .dataframe tbody tr th:only-of-type {\n",
       "        vertical-align: middle;\n",
       "    }\n",
       "\n",
       "    .dataframe tbody tr th {\n",
       "        vertical-align: top;\n",
       "    }\n",
       "\n",
       "    .dataframe thead th {\n",
       "        text-align: right;\n",
       "    }\n",
       "</style>\n",
       "<table border=\"1\" class=\"dataframe\">\n",
       "  <thead>\n",
       "    <tr style=\"text-align: right;\">\n",
       "      <th></th>\n",
       "      <th>Gender</th>\n",
       "      <th>Age</th>\n",
       "      <th>Educ</th>\n",
       "      <th>MMSE</th>\n",
       "      <th>CDR</th>\n",
       "      <th>eTIV</th>\n",
       "      <th>nWBV</th>\n",
       "      <th>ASF</th>\n",
       "      <th>ID</th>\n",
       "    </tr>\n",
       "  </thead>\n",
       "  <tbody>\n",
       "    <tr>\n",
       "      <th>0</th>\n",
       "      <td>F</td>\n",
       "      <td>74</td>\n",
       "      <td>2.0</td>\n",
       "      <td>29.0</td>\n",
       "      <td>0.0</td>\n",
       "      <td>1344</td>\n",
       "      <td>0.743</td>\n",
       "      <td>1.306</td>\n",
       "      <td>0</td>\n",
       "    </tr>\n",
       "    <tr>\n",
       "      <th>13</th>\n",
       "      <td>M</td>\n",
       "      <td>76</td>\n",
       "      <td>2.0</td>\n",
       "      <td>28.0</td>\n",
       "      <td>0.5</td>\n",
       "      <td>1738</td>\n",
       "      <td>0.719</td>\n",
       "      <td>1.010</td>\n",
       "      <td>13</td>\n",
       "    </tr>\n",
       "    <tr>\n",
       "      <th>14</th>\n",
       "      <td>M</td>\n",
       "      <td>82</td>\n",
       "      <td>2.0</td>\n",
       "      <td>27.0</td>\n",
       "      <td>0.5</td>\n",
       "      <td>1477</td>\n",
       "      <td>0.739</td>\n",
       "      <td>1.188</td>\n",
       "      <td>14</td>\n",
       "    </tr>\n",
       "    <tr>\n",
       "      <th>20</th>\n",
       "      <td>F</td>\n",
       "      <td>69</td>\n",
       "      <td>2.0</td>\n",
       "      <td>23.0</td>\n",
       "      <td>0.5</td>\n",
       "      <td>1447</td>\n",
       "      <td>0.757</td>\n",
       "      <td>1.213</td>\n",
       "      <td>20</td>\n",
       "    </tr>\n",
       "    <tr>\n",
       "      <th>21</th>\n",
       "      <td>M</td>\n",
       "      <td>82</td>\n",
       "      <td>2.0</td>\n",
       "      <td>27.0</td>\n",
       "      <td>0.5</td>\n",
       "      <td>1420</td>\n",
       "      <td>0.710</td>\n",
       "      <td>1.236</td>\n",
       "      <td>21</td>\n",
       "    </tr>\n",
       "    <tr>\n",
       "      <th>...</th>\n",
       "      <td>...</td>\n",
       "      <td>...</td>\n",
       "      <td>...</td>\n",
       "      <td>...</td>\n",
       "      <td>...</td>\n",
       "      <td>...</td>\n",
       "      <td>...</td>\n",
       "      <td>...</td>\n",
       "      <td>...</td>\n",
       "    </tr>\n",
       "    <tr>\n",
       "      <th>1215</th>\n",
       "      <td>M</td>\n",
       "      <td>87</td>\n",
       "      <td>2.0</td>\n",
       "      <td>30.0</td>\n",
       "      <td>0.0</td>\n",
       "      <td>1762</td>\n",
       "      <td>0.719</td>\n",
       "      <td>0.996</td>\n",
       "      <td>1215</td>\n",
       "    </tr>\n",
       "    <tr>\n",
       "      <th>1219</th>\n",
       "      <td>M</td>\n",
       "      <td>88</td>\n",
       "      <td>1.0</td>\n",
       "      <td>26.0</td>\n",
       "      <td>1.0</td>\n",
       "      <td>1419</td>\n",
       "      <td>0.674</td>\n",
       "      <td>1.236</td>\n",
       "      <td>1219</td>\n",
       "    </tr>\n",
       "    <tr>\n",
       "      <th>1226</th>\n",
       "      <td>M</td>\n",
       "      <td>90</td>\n",
       "      <td>2.0</td>\n",
       "      <td>21.0</td>\n",
       "      <td>0.5</td>\n",
       "      <td>1307</td>\n",
       "      <td>0.689</td>\n",
       "      <td>1.342</td>\n",
       "      <td>1226</td>\n",
       "    </tr>\n",
       "    <tr>\n",
       "      <th>1227</th>\n",
       "      <td>M</td>\n",
       "      <td>90</td>\n",
       "      <td>1.0</td>\n",
       "      <td>23.0</td>\n",
       "      <td>0.5</td>\n",
       "      <td>1668</td>\n",
       "      <td>0.644</td>\n",
       "      <td>1.052</td>\n",
       "      <td>1227</td>\n",
       "    </tr>\n",
       "    <tr>\n",
       "      <th>1229</th>\n",
       "      <td>M</td>\n",
       "      <td>90</td>\n",
       "      <td>2.0</td>\n",
       "      <td>25.0</td>\n",
       "      <td>0.0</td>\n",
       "      <td>1301</td>\n",
       "      <td>0.645</td>\n",
       "      <td>1.349</td>\n",
       "      <td>1229</td>\n",
       "    </tr>\n",
       "  </tbody>\n",
       "</table>\n",
       "<p>156 rows × 9 columns</p>\n",
       "</div>"
      ],
      "text/plain": [
       "     Gender  Age  Educ  MMSE  CDR  eTIV   nWBV    ASF    ID\n",
       "0         F   74   2.0  29.0  0.0  1344  0.743  1.306     0\n",
       "13        M   76   2.0  28.0  0.5  1738  0.719  1.010    13\n",
       "14        M   82   2.0  27.0  0.5  1477  0.739  1.188    14\n",
       "20        F   69   2.0  23.0  0.5  1447  0.757  1.213    20\n",
       "21        M   82   2.0  27.0  0.5  1420  0.710  1.236    21\n",
       "...     ...  ...   ...   ...  ...   ...    ...    ...   ...\n",
       "1215      M   87   2.0  30.0  0.0  1762  0.719  0.996  1215\n",
       "1219      M   88   1.0  26.0  1.0  1419  0.674  1.236  1219\n",
       "1226      M   90   2.0  21.0  0.5  1307  0.689  1.342  1226\n",
       "1227      M   90   1.0  23.0  0.5  1668  0.644  1.052  1227\n",
       "1229      M   90   2.0  25.0  0.0  1301  0.645  1.349  1229\n",
       "\n",
       "[156 rows x 9 columns]"
      ]
     },
     "execution_count": 29,
     "metadata": {},
     "output_type": "execute_result"
    }
   ],
   "source": [
    "final_data[final_data['Educ']<=2.00]"
   ]
  },
  {
   "cell_type": "markdown",
   "id": "124eb900",
   "metadata": {
    "papermill": {
     "duration": 0.028612,
     "end_time": "2024-05-20T18:06:23.412197",
     "exception": false,
     "start_time": "2024-05-20T18:06:23.383585",
     "status": "completed"
    },
    "tags": []
   },
   "source": [
    "I am removing the 2 outliers from the Educ, since they're clearly outliers on the boxplot"
   ]
  },
  {
   "cell_type": "code",
   "execution_count": 30,
   "id": "efad2cc3",
   "metadata": {
    "execution": {
     "iopub.execute_input": "2024-05-20T18:06:23.473674Z",
     "iopub.status.busy": "2024-05-20T18:06:23.473244Z",
     "iopub.status.idle": "2024-05-20T18:06:23.479122Z",
     "shell.execute_reply": "2024-05-20T18:06:23.478153Z"
    },
    "papermill": {
     "duration": 0.039479,
     "end_time": "2024-05-20T18:06:23.481362",
     "exception": false,
     "start_time": "2024-05-20T18:06:23.441883",
     "status": "completed"
    },
    "tags": []
   },
   "outputs": [],
   "source": [
    "final_data = final_data[final_data['Educ']>2.00]"
   ]
  },
  {
   "cell_type": "markdown",
   "id": "11e57cfc",
   "metadata": {
    "papermill": {
     "duration": 0.028271,
     "end_time": "2024-05-20T18:06:23.538976",
     "exception": false,
     "start_time": "2024-05-20T18:06:23.510705",
     "status": "completed"
    },
    "tags": []
   },
   "source": [
    "Check for improvement"
   ]
  },
  {
   "cell_type": "code",
   "execution_count": 31,
   "id": "78a8572f",
   "metadata": {
    "execution": {
     "iopub.execute_input": "2024-05-20T18:06:23.600387Z",
     "iopub.status.busy": "2024-05-20T18:06:23.599394Z",
     "iopub.status.idle": "2024-05-20T18:06:24.861150Z",
     "shell.execute_reply": "2024-05-20T18:06:24.859937Z"
    },
    "papermill": {
     "duration": 1.294952,
     "end_time": "2024-05-20T18:06:24.863723",
     "exception": false,
     "start_time": "2024-05-20T18:06:23.568771",
     "status": "completed"
    },
    "tags": []
   },
   "outputs": [
    {
     "data": {
      "text/plain": [
       "Age        Axes(0.125,0.712609;0.227941x0.167391)\n",
       "Educ    Axes(0.398529,0.712609;0.227941x0.167391)\n",
       "MMSE    Axes(0.672059,0.712609;0.227941x0.167391)\n",
       "CDR        Axes(0.125,0.511739;0.227941x0.167391)\n",
       "eTIV    Axes(0.398529,0.511739;0.227941x0.167391)\n",
       "nWBV    Axes(0.672059,0.511739;0.227941x0.167391)\n",
       "ASF         Axes(0.125,0.31087;0.227941x0.167391)\n",
       "ID       Axes(0.398529,0.31087;0.227941x0.167391)\n",
       "dtype: object"
      ]
     },
     "execution_count": 31,
     "metadata": {},
     "output_type": "execute_result"
    },
    {
     "data": {
      "image/png": "[encoded data removed]",
      "text/plain": [
       "<Figure size 2000x1000 with 12 Axes>"
      ]
     },
     "metadata": {},
     "output_type": "display_data"
    }
   ],
   "source": [
    "final_data.plot(kind='box', subplots=True, layout=(4,3), sharex=False, figsize=(20, 10))"
   ]
  },
  {
   "cell_type": "markdown",
   "id": "7fbe968e",
   "metadata": {
    "papermill": {
     "duration": 0.029709,
     "end_time": "2024-05-20T18:06:24.923974",
     "exception": false,
     "start_time": "2024-05-20T18:06:24.894265",
     "status": "completed"
    },
    "tags": []
   },
   "source": [
    "For the MMSE the leftover outliers are not removed, because on the previous box-plot representation of all features, they weren't outliers. More specifically on a global scale they're not clasified as outliers."
   ]
  },
  {
   "cell_type": "code",
   "execution_count": 32,
   "id": "82628ff3",
   "metadata": {
    "execution": {
     "iopub.execute_input": "2024-05-20T18:06:24.986112Z",
     "iopub.status.busy": "2024-05-20T18:06:24.985367Z",
     "iopub.status.idle": "2024-05-20T18:06:27.905937Z",
     "shell.execute_reply": "2024-05-20T18:06:27.904631Z"
    },
    "papermill": {
     "duration": 2.954676,
     "end_time": "2024-05-20T18:06:27.908621",
     "exception": false,
     "start_time": "2024-05-20T18:06:24.953945",
     "status": "completed"
    },
    "tags": []
   },
   "outputs": [
    {
     "data": {
      "text/plain": [
       "array([[<Axes: title={'center': 'Age'}>,\n",
       "        <Axes: title={'center': 'Educ'}>,\n",
       "        <Axes: title={'center': 'MMSE'}>],\n",
       "       [<Axes: title={'center': 'CDR'}>,\n",
       "        <Axes: title={'center': 'eTIV'}>,\n",
       "        <Axes: title={'center': 'nWBV'}>],\n",
       "       [<Axes: title={'center': 'ASF'}>, <Axes: title={'center': 'ID'}>,\n",
       "        <Axes: >]], dtype=object)"
      ]
     },
     "execution_count": 32,
     "metadata": {},
     "output_type": "execute_result"
    },
    {
     "data": {
      "image/png": "[encoded data removed]",
      "text/plain": [
       "<Figure size 2000x1000 with 9 Axes>"
      ]
     },
     "metadata": {},
     "output_type": "display_data"
    }
   ],
   "source": [
    "final_data.hist(bins=60, figsize=(20, 10))"
   ]
  },
  {
   "cell_type": "markdown",
   "id": "04c38e45",
   "metadata": {
    "papermill": {
     "duration": 0.030888,
     "end_time": "2024-05-20T18:06:27.971135",
     "exception": false,
     "start_time": "2024-05-20T18:06:27.940247",
     "status": "completed"
    },
    "tags": []
   },
   "source": [
    "# **Data Splitting**"
   ]
  },
  {
   "cell_type": "code",
   "execution_count": 33,
   "id": "96d6862e",
   "metadata": {
    "execution": {
     "iopub.execute_input": "2024-05-20T18:06:28.036307Z",
     "iopub.status.busy": "2024-05-20T18:06:28.035164Z",
     "iopub.status.idle": "2024-05-20T18:06:28.050819Z",
     "shell.execute_reply": "2024-05-20T18:06:28.050001Z"
    },
    "papermill": {
     "duration": 0.050735,
     "end_time": "2024-05-20T18:06:28.053152",
     "exception": false,
     "start_time": "2024-05-20T18:06:28.002417",
     "status": "completed"
    },
    "tags": []
   },
   "outputs": [
    {
     "name": "stderr",
     "output_type": "stream",
     "text": [
      "/tmp/ipykernel_18/3152100570.py:2: SettingWithCopyWarning: \n",
      "A value is trying to be set on a copy of a slice from a DataFrame\n",
      "\n",
      "See the caveats in the documentation: https://pandas.pydata.org/pandas-docs/stable/user_guide/indexing.html#returning-a-view-versus-a-copy\n",
      "  final_data.drop(columns=['Gender'],inplace = True)\n"
     ]
    }
   ],
   "source": [
    "final_data=final_data[final_data[\"Age\"]!=94]\n",
    "final_data.drop(columns=['Gender'],inplace = True)  \n",
    "X = final_data.drop(columns=['ID', 'Age'])  \n",
    "y = final_data['Age']\n",
    "scaler=StandardScaler()\n",
    "X= scaler.fit_transform(X)\n",
    "X_train, X_test, y_train, y_test = train_test_split(X, y, test_size=0.2,random_state=np.random)"
   ]
  },
  {
   "cell_type": "markdown",
   "id": "6abc4ade",
   "metadata": {
    "papermill": {
     "duration": 0.030584,
     "end_time": "2024-05-20T18:06:28.114897",
     "exception": false,
     "start_time": "2024-05-20T18:06:28.084313",
     "status": "completed"
    },
    "tags": []
   },
   "source": [
    "# **Decision Tree Clasifier**"
   ]
  },
  {
   "cell_type": "code",
   "execution_count": 34,
   "id": "734e7981",
   "metadata": {
    "execution": {
     "iopub.execute_input": "2024-05-20T18:06:28.178500Z",
     "iopub.status.busy": "2024-05-20T18:06:28.178090Z",
     "iopub.status.idle": "2024-05-20T18:06:29.212505Z",
     "shell.execute_reply": "2024-05-20T18:06:29.211309Z"
    },
    "papermill": {
     "duration": 1.069551,
     "end_time": "2024-05-20T18:06:29.215575",
     "exception": false,
     "start_time": "2024-05-20T18:06:28.146024",
     "status": "completed"
    },
    "tags": []
   },
   "outputs": [
    {
     "name": "stdout",
     "output_type": "stream",
     "text": [
      "0.711538461538461\n",
      "0.9922480620155053\n"
     ]
    }
   ],
   "source": [
    "dtc = DecisionTreeClassifier()\n",
    "\n",
    "iters=100\n",
    "avg_tts_dtc=0\n",
    "avg_cv_dtc=0\n",
    "for i in range(iters):\n",
    "    dtc.fit(X_train,y_train)\n",
    "    sc=dtc.score(X_test,y_test)\n",
    "    cv_sc=cross_val_score(dtc, X, y,cv=2)\n",
    "    avg_tts_dtc+=sc\n",
    "    avg_cv_dtc+=cv_sc[1]\n",
    "    #print(sc)\n",
    "print(avg_tts_dtc/iters)\n",
    "print(avg_cv_dtc/iters)\n"
   ]
  },
  {
   "cell_type": "markdown",
   "id": "8aa7aa2f",
   "metadata": {
    "papermill": {
     "duration": 0.030932,
     "end_time": "2024-05-20T18:06:29.278501",
     "exception": false,
     "start_time": "2024-05-20T18:06:29.247569",
     "status": "completed"
    },
    "tags": []
   },
   "source": [
    "# **Logistic Regressor**"
   ]
  },
  {
   "cell_type": "code",
   "execution_count": 35,
   "id": "684783e7",
   "metadata": {
    "execution": {
     "iopub.execute_input": "2024-05-20T18:06:29.343838Z",
     "iopub.status.busy": "2024-05-20T18:06:29.343415Z",
     "iopub.status.idle": "2024-05-20T18:06:35.874194Z",
     "shell.execute_reply": "2024-05-20T18:06:35.872945Z"
    },
    "papermill": {
     "duration": 6.566415,
     "end_time": "2024-05-20T18:06:35.876785",
     "exception": false,
     "start_time": "2024-05-20T18:06:29.310370",
     "status": "completed"
    },
    "tags": []
   },
   "outputs": [
    {
     "name": "stdout",
     "output_type": "stream",
     "text": [
      "0.09615384615384613\n",
      "0.2713178294573639\n"
     ]
    }
   ],
   "source": [
    "lr = LogisticRegression()\n",
    "\n",
    "iters=100\n",
    "avg_tts_lr=0\n",
    "avg_cv_lr=0\n",
    "for i in range(iters):\n",
    "    lr.fit(X_train,y_train)\n",
    "    sc=lr.score(X_test,y_test)\n",
    "    cv_sc=cross_val_score(lr, X, y,cv=2)\n",
    "    avg_tts_lr+=sc\n",
    "    avg_cv_lr+=cv_sc[1]\n",
    "    #print(sc)\n",
    "print(avg_tts_lr/iters)\n",
    "print(avg_cv_lr/iters)\n"
   ]
  },
  {
   "cell_type": "markdown",
   "id": "79502530",
   "metadata": {
    "papermill": {
     "duration": 0.030637,
     "end_time": "2024-05-20T18:06:35.939216",
     "exception": false,
     "start_time": "2024-05-20T18:06:35.908579",
     "status": "completed"
    },
    "tags": []
   },
   "source": [
    "# **Random Forest Classifier**"
   ]
  },
  {
   "cell_type": "code",
   "execution_count": 36,
   "id": "dc96bc7c",
   "metadata": {
    "execution": {
     "iopub.execute_input": "2024-05-20T18:06:36.003436Z",
     "iopub.status.busy": "2024-05-20T18:06:36.003026Z",
     "iopub.status.idle": "2024-05-20T18:07:51.850311Z",
     "shell.execute_reply": "2024-05-20T18:07:51.848975Z"
    },
    "papermill": {
     "duration": 75.914377,
     "end_time": "2024-05-20T18:07:51.884576",
     "exception": false,
     "start_time": "2024-05-20T18:06:35.970199",
     "status": "completed"
    },
    "tags": []
   },
   "outputs": [
    {
     "name": "stdout",
     "output_type": "stream",
     "text": [
      "0.711538461538461\n",
      "0.9922480620155053\n"
     ]
    }
   ],
   "source": [
    "rfc = RandomForestClassifier()\n",
    "\n",
    "iters=100\n",
    "avg_tts_rfc=0\n",
    "avg_cv_rfc=0\n",
    "for i in range(iters):\n",
    "    rfc.fit(X_train,y_train)\n",
    "    sc=rfc.score(X_test,y_test)\n",
    "    cv_sc=cross_val_score(rfc, X, y,cv=2)\n",
    "    avg_tts_rfc+=sc\n",
    "    avg_cv_rfc+=cv_sc[1]\n",
    "    #print(sc)\n",
    "print(avg_tts_rfc/iters)\n",
    "print(avg_cv_rfc/iters)"
   ]
  }
 ],
 "metadata": {
  "kaggle": {
   "accelerator": "none",
   "dataSources": [
    {
     "datasetId": 1980,
     "sourceId": 3398,
     "sourceType": "datasetVersion"
    }
   ],
   "dockerImageVersionId": 30698,
   "isGpuEnabled": false,
   "isInternetEnabled": false,
   "language": "python",
   "sourceType": "notebook"
  },
  "kernelspec": {
   "display_name": "Python 3",
   "language": "python",
   "name": "python3"
  },
  "language_info": {
   "codemirror_mode": {
    "name": "ipython",
    "version": 3
   },
   "file_extension": ".py",
   "mimetype": "text/x-python",
   "name": "python",
   "nbconvert_exporter": "python",
   "pygments_lexer": "ipython3",
   "version": "3.10.13"
  },
  "papermill": {
   "default_parameters": {},
   "duration": 104.383033,
   "end_time": "2024-05-20T18:07:52.838765",
   "environment_variables": {},
   "exception": null,
   "input_path": "__notebook__.ipynb",
   "output_path": "__notebook__.ipynb",
   "parameters": {},
   "start_time": "2024-05-20T18:06:08.455732",
   "version": "2.5.0"
  }
 },
 "nbformat": 4,
 "nbformat_minor": 5
}
